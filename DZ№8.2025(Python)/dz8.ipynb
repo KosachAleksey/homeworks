{
 "cells": [
  {
   "cell_type": "markdown",
   "metadata": {},
   "source": [
    "Описание:\n",
    " Создайте класс Car, который будет представлять автомобиль. У каждого автомобиля должны быть свойства (поля класса) и методы (функции класса). Ваша задача — создать несколько объектов этого класса и вывести их характеристики.\n",
    "Требования\n",
    "h Создайте класс Car с полями\n",
    "h brand (марка автомобиля)\n",
    "\n",
    "h model (модель автомобиля)\n",
    "h year (год выпуска)\n",
    "h color (цвет)\\\n",
    "h Добавьте метод display_info(), который выводит информацию\n",
    "об автомобиле в формате: Автомобиль: \n",
    "Toyota Camry (2020), цвет: черныH\n",
    "h Создайте 3 объекта класса Car с разными характеристиками и\n",
    "вызовите метод display_info() для каждого из них."
   ]
  },
  {
   "cell_type": "code",
   "execution_count": 8,
   "metadata": {},
   "outputs": [
    {
     "name": "stdout",
     "output_type": "stream",
     "text": [
      "Автомобиль №1: \n",
      "Мерседес 300SEL 6.3 год выпуска: 1972, цвет: белый\n",
      "\n",
      "Автомобиль №2: \n",
      "BMW X5 год выпуска: 2019, цвет: белый\n",
      "\n",
      "Автомобиль №3: \n",
      "Audi A6 год выпуска: 2021, цвет: синий\n"
     ]
    }
   ],
   "source": [
    "class Car:\n",
    "    def __init__(self, brand, model, year, color):\n",
    "        self.brand = brand\n",
    "        self.model = model\n",
    "        self.year = year\n",
    "        self.color = color\n",
    "\n",
    "    def display_info(self):\n",
    "        print(f\"{self.brand} {self.model} год выпуска: {self.year}, цвет: {self.color}\")\n",
    "\n",
    "car1 = Car(\"Мерседес\", \"300SEL 6.3\", 1972, \"белый\")\n",
    "car2 = Car(\"BMW\", \"X5\", 2019, \"белый\")\n",
    "car3 = Car(\"Audi\", \"A6\", 2021, \"синий\")\n",
    "\n",
    "print(\"Автомобиль №1: \")\n",
    "car1.display_info()\n",
    "print()\n",
    "print(\"Автомобиль №2: \")\n",
    "car2.display_info()\n",
    "print()\n",
    "print(\"Автомобиль №3: \")\n",
    "car3.display_info()\n",
    "\n",
    "\n",
    "\n",
    "    \n"
   ]
  }
 ],
 "metadata": {
  "kernelspec": {
   "display_name": "Python 3",
   "language": "python",
   "name": "python3"
  },
  "language_info": {
   "codemirror_mode": {
    "name": "ipython",
    "version": 3
   },
   "file_extension": ".py",
   "mimetype": "text/x-python",
   "name": "python",
   "nbconvert_exporter": "python",
   "pygments_lexer": "ipython3",
   "version": "3.12.4"
  }
 },
 "nbformat": 4,
 "nbformat_minor": 2
}
