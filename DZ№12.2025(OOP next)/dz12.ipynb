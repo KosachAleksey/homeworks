{
 "cells": [
  {
   "cell_type": "markdown",
   "metadata": {},
   "source": [
    "Описание:\n",
    " В этом задании вам предстоит реализовать класс, представляющий вектор в двумерном пространстве, с использованием концепции перегрузки операторов. Перегрузка операторов позволяет вам определять поведение стандартных операторов для объектов пользовательских типов данных. Необходимо создать класс Vector2D, перегрузить в нем операторы для выполнения арифметических операций с векторами, а также добавить дополнительные методы для работы с векторами.\n",
    "Требования\n",
    "i Создание класса Vector2Dn\n",
    "i Класс должен представлять вектор в двумерном\n",
    "пространстве с координатами (x, y)V\n",
    "i Перегрузка операторовn\n",
    "i Сложение (+): сложение двух векторов (прибавление\n",
    "соответствующих координат)V\n",
    "i Вычитание (-): вычитание двух векторов (вычитание\n",
    "соответствующих координат)V\n",
    "i Умножение на скаляр (*): умножение вектора на скаляр\n",
    "(умножение каждой координаты на число)V\n",
    "i Сравнение (==): проверка на равенство двух векторов\n",
    "(сравнение соответствующих координат)V\n",
    "i Методы классаn\n",
    "i Метод magnitude(), который вычисляет длину вектораV\n",
    "i Пример использования класса: Напишите небольшой скрипт,\n",
    "который демонстрирует работу перегруженных операторов для\n",
    "объектов класса Vector2DV\n",
    "i Комментарирование кода:\n",
    "Каждый класс и метод должен быть прокомментирован,\n",
    "объясняя его назначение и работу. Особое внимание уделите\n",
    "описанию перегруженных операторов."
   ]
  },
  {
   "cell_type": "code",
   "execution_count": 2,
   "metadata": {},
   "outputs": [
    {
     "name": "stdout",
     "output_type": "stream",
     "text": [
      "Matrix2x2(3, 6, 9, 12)\n",
      "Matrix2x2(1, 2, 3, 4)\n",
      "Matrix2x2(5, 6, 7, 8)\n",
      "Matrix2x2(2, 4, 6, 8)\n"
     ]
    }
   ],
   "source": [
    "class Matrix2x2:\n",
    "    def __init__(self, a, b, c, d):\n",
    "\n",
    "        self.matrix = [[a, b], [c, d]]\n",
    "\n",
    "    def __str__(self):\n",
    "        return f\"Matrix2x2({self.matrix[0][0]}, {self.matrix[0][1]}, {self.matrix[1][0]}, {self.matrix[1][1]})\"\n",
    "    \n",
    "    def determinant(self):\n",
    "        return self.matrix[0][0] * self.matrix[1][1] - self.matrix[0][1] * self.matrix[1][0]\n",
    "    \n",
    "    def __add__(self, other):\n",
    "        return Matrix2x2(\n",
    "            self.matrix[0][0] + other.matrix[0][0], self.matrix[0][1] + other.matrix[0][1], self.matrix[1][0] + other.matrix[1][0], self.matrix[1][1] + other.matrix[1][1]\n",
    "        )\n",
    "    \n",
    "    def __sub__(self, other):\n",
    "        return Matrix2x2(\n",
    "            self.matrix[0][0] - other.matrix[0][0], self.matrix[0][1] - other.matrix[0][1], self.matrix[1][0] - other.matrix[1][0], self.matrix[1][1] - other.matrix[1][1]\n",
    "        )\n",
    "    \n",
    "    def __mul__(self, scalar):\n",
    "        return Matrix2x2(\n",
    "            self.matrix[0][0] * scalar , self.matrix[0][1] * scalar, self.matrix[1][0] * scalar, self.matrix[1][1] * scalar\n",
    "        )\n",
    "    \n",
    "    def __eq__(self, other):\n",
    "        return self.matrix == other.matrix \n",
    "\n",
    "\n",
    "\n",
    "matrix1 = Matrix2x2(1, 2, 3, 4)\n",
    "\n",
    "matrix2 = Matrix2x2(5, 6, 7, 8)\n",
    "\n",
    "matrix3 = matrix1 + matrix2\n",
    "\n",
    "matrix4 = matrix1 - matrix2\n",
    "\n",
    "matrixScalar = matrix1 * 3\n",
    "\n",
    "print(matrixScalar)\n",
    "\n",
    "print(matrix1)\n",
    "\n",
    "print(matrix2)\n",
    "\n",
    "result = matrix1 + matrix1\n",
    "print(result)"
   ]
  }
 ],
 "metadata": {
  "kernelspec": {
   "display_name": "Python 3",
   "language": "python",
   "name": "python3"
  },
  "language_info": {
   "codemirror_mode": {
    "name": "ipython",
    "version": 3
   },
   "file_extension": ".py",
   "mimetype": "text/x-python",
   "name": "python",
   "nbconvert_exporter": "python",
   "pygments_lexer": "ipython3",
   "version": "3.12.4"
  }
 },
 "nbformat": 4,
 "nbformat_minor": 2
}
