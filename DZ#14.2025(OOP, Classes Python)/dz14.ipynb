{
 "cells": [
  {
   "cell_type": "markdown",
   "metadata": {},
   "source": [
    "Создайте программу на Python для анализа логов веб-сервера с\n",
    "использованием ООП и регулярных выражений. Логи имеют формат:\n",
    "\n",
    "192.168.1.1 - - [12/Jan/2023:14:32:45 +0000] \"GET /index.html HTTP/1.1\" 200 1024\n",
    "\n",
    " Программа должна извлекать данные из логов и выводить статистику.\n",
    "пример:\n",
    "\n",
    "Требования \n",
    "1. Класс LogEntry° \n",
    "´ Атрибуты: IP, дата/время, метод (GET/POST), URL, код ответа, размер\n",
    "ответаà\n",
    "´ Используйте re для парсинга строк (шаблон на усмотрение)à\n",
    "´ Метод __str__ для вывода записиà\n",
    "2. Класс LogAnalyzer° \n",
    "´ Атрибуты: список LogEntry, путь к файлуà\n",
    "´ Методы°\n",
    "´ load_logs() — читает файлà\n",
    "´ get_ip_stats() — статистика запросов по IPà\n",
    "´ most_requested_url() — самый популярный URLà\n",
    "3. Основная программа° \n",
    "´ Загрузите логи из файлаà\n",
    "´ Выведите: общее число запросов, статистику по IP, самый популярный\n",
    "URLà\n",
    "´ Обрабатывайте ошибки (файл не найден, неверный формат строки).\n",
    "Пример:\n",
    "analyzer = LogAnalyzer(\"\"logs.txt\")\n",
    "analyzer.load_logs()\n",
    "print = (f(\"Запросов: {len(analyzer.entries)})\" \n",
    "print = (analyzer.get_ip_stats()) \n",
    "print = ( analyzer.most_requested_url ())"
   ]
  },
  {
   "cell_type": "code",
   "execution_count": 2,
   "metadata": {},
   "outputs": [
    {
     "name": "stdout",
     "output_type": "stream",
     "text": [
      "Запросов: 4\n",
      "{'192.168.1.1': 2, '192.168.1.2': 1, '192.168.1.3': 1}\n",
      "('/index.html', 2)\n"
     ]
    }
   ],
   "source": [
    "import re\n",
    "from collections import Counter\n",
    "\n",
    "class LogEntry:\n",
    "    def __init__(self, ip, datetime, method, url, status_code, response_size):\n",
    "        self.ip = ip\n",
    "        self.datetime = datetime\n",
    "        self.method = method\n",
    "        self.url = url\n",
    "        self.status_code = status_code\n",
    "        self.response_size = response_size\n",
    "\n",
    "    def __str__(self):\n",
    "        return f\"{self.ip} - {self.datetime} \\\"{self.method} {self.url}\\\" {self.status_code} {self.response_size}\"\n",
    "\n",
    "class LogAnalyzer:\n",
    "    def __init__(self, file_path):\n",
    "        self.file_path = file_path\n",
    "        self.entries = []\n",
    "\n",
    "    def load_logs(self):\n",
    "        log_pattern = re.compile(\n",
    "            r'(?P<ip>\\d+\\.\\d+\\.\\d+\\.\\d+) - - \\[(?P<datetime>.+?)\\] \"(?P<method>\\w+) (?P<url>.+?) .*?\" (?P<status_code>\\d+) (?P<response_size>\\d+)'\n",
    "        )\n",
    "        try:\n",
    "            with open(self.file_path, 'r') as file:\n",
    "                for line in file:\n",
    "                    match = log_pattern.match(line)\n",
    "                    if match:\n",
    "                        self.entries.append(LogEntry(\n",
    "                            match.group('ip'), match.group('datetime'), match.group('method'),\n",
    "                            match.group('url'), int(match.group('status_code')), int(match.group('response_size'))\n",
    "                        ))\n",
    "        except FileNotFoundError:\n",
    "            print(\"Ошибка: Файл не найден.\")\n",
    "\n",
    "    def get_ip_stats(self):\n",
    "        counter = Counter(entry.ip for entry in self.entries)\n",
    "        return dict(counter)\n",
    "\n",
    "    def most_requested_url(self):\n",
    "        counter = Counter(entry.url for entry in self.entries)\n",
    "        return counter.most_common(1)[0] if counter else None\n",
    "\n",
    "if __name__ == \"__main__\":\n",
    "    # Создание тестового файла logs.txt\n",
    "    sample_logs = \"\"\"192.168.1.1 - - [12/Jan/2023:14:32:45 +0000] \"GET /index.html HTTP/1.1\" 200 1024\n",
    "192.168.1.2 - - [12/Jan/2023:14:35:10 +0000] \"POST /login HTTP/1.1\" 401 512\n",
    "192.168.1.1 - - [12/Jan/2023:14:37:22 +0000] \"GET /home HTTP/1.1\" 200 2048\n",
    "192.168.1.3 - - [12/Jan/2023:14:40:05 +0000] \"GET /index.html HTTP/1.1\" 200 1024\n",
    "\"\"\"\n",
    "    with open(\"logs.txt\", \"w\") as log_file:\n",
    "        log_file.write(sample_logs)\n",
    "\n",
    "    analyzer = LogAnalyzer(\"logs.txt\")\n",
    "    analyzer.load_logs()\n",
    "    print(f\"Запросов: {len(analyzer.entries)}\")\n",
    "    print(analyzer.get_ip_stats())\n",
    "    print(analyzer.most_requested_url())"
   ]
  }
 ],
 "metadata": {
  "kernelspec": {
   "display_name": "Python 3",
   "language": "python",
   "name": "python3"
  },
  "language_info": {
   "codemirror_mode": {
    "name": "ipython",
    "version": 3
   },
   "file_extension": ".py",
   "mimetype": "text/x-python",
   "name": "python",
   "nbconvert_exporter": "python",
   "pygments_lexer": "ipython3",
   "version": "3.13.2"
  }
 },
 "nbformat": 4,
 "nbformat_minor": 2
}
