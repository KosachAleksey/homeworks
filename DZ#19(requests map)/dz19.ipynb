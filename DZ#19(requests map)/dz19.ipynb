{
 "cells": [
  {
   "cell_type": "markdown",
   "metadata": {},
   "source": [
    "Требования\n",
    " Напишите программу, которая выполняет следующие шаги: \n",
    " Отправляет GET-запрос к API https://ipinfo.io/161.185.160.93/geo \n",
    " Получает данные о геолокации в формате JSON¨\n",
    " Выводит на экран информацию о следующемu\n",
    " Страна (country) \n",
    " Город (city) \n",
    " Широта и долгота (location) \n",
    " Организация (org) \n",
    "»¨ Обработайте возможные ошибки, такие как: \n",
    " Невозможность соединиться с API.\n",
    "\n",
    "\n",
    "Пример выполнения:\n",
    "\n",
    "Программа должна вывести информацию о местоположении, например:\n",
    "Страна: US \n",
    "Город: New York \n",
    "Широта и долгота: 40.730610, -73.935242 \n",
    "Организация: AS20115 Public Broadcasting Service \n"
   ]
  },
  {
   "cell_type": "code",
   "execution_count": 16,
   "metadata": {},
   "outputs": [
    {
     "name": "stdout",
     "output_type": "stream",
     "text": [
      "<Response [200]>\n",
      "Страна : US\n",
      "Город: New York City\n",
      "Регион: New York\n",
      "Широта и долгота: 40.7143,-74.0060\n",
      "Организация: AS22252 The City of New York\n"
     ]
    }
   ],
   "source": [
    "import requests\n",
    "import json\n",
    "\n",
    "def get_geo_info(ip):\n",
    "    url = f\"https://ipinfo.io/{ip}/geo\"\n",
    "    try:\n",
    "        response = requests.get(url, timeout =5)\n",
    "        print(response)\n",
    "        response.raise_for_status()\n",
    "        data = response.json()\n",
    "\n",
    "        info_about_geo = {\n",
    "            \"Страна\" : data.get (\"country\", \"Неизвестно\"),\n",
    "            \"Город\" : data.get (\"city\", \"Неизвестно\"),\n",
    "            \"Регион\" : data.get (\"region\", \"Хрен знает где\"),\n",
    "            \"Широта и долгота\": data.get (\"loc\", \"Неизвестно\"),\n",
    "            \"Организация\" : data.get (\"org\", \"Неизвестно!\")\n",
    "        }\n",
    "            \n",
    "\n",
    "        with open(\"geo_info.json\", 'w+', encoding=\"utf-8\") as file:\n",
    "            json.dump(info_about_geo, file, indent=4, ensure_ascii=False)\n",
    "\n",
    "        print(f\"Страна : {info_about_geo['Страна']}\")\n",
    "        print(f\"Город: {info_about_geo['Город']}\")\n",
    "        print(f\"Регион: {info_about_geo['Регион']}\")\n",
    "        print(f\"Широта и долгота: {info_about_geo['Широта и долгота']}\")\n",
    "        print(f\"Организация: {info_about_geo['Организация']}\")\n",
    "       \n",
    "    except requests.exceptions.RequestException as e:\n",
    "        print(f\"Ошибка запроса: {e}\")\n",
    "    except requests.exceptions.HTTPError as f:\n",
    "        print(f\"Ошибка HTTP запроса: {f}\")\n",
    "    except json.JSONDecodeError:\n",
    "        print(\"Ошибка обработки JSON файла\")\n",
    "\n",
    "if __name__ == \"__main__\":\n",
    "    ip_address = \"161.185.160.93\"\n",
    "    get_geo_info(ip_address)  \n",
    "        \n",
    "    "
   ]
  }
 ],
 "metadata": {
  "kernelspec": {
   "display_name": "Python 3",
   "language": "python",
   "name": "python3"
  },
  "language_info": {
   "codemirror_mode": {
    "name": "ipython",
    "version": 3
   },
   "file_extension": ".py",
   "mimetype": "text/x-python",
   "name": "python",
   "nbconvert_exporter": "python",
   "pygments_lexer": "ipython3",
   "version": "3.13.2"
  }
 },
 "nbformat": 4,
 "nbformat_minor": 2
}
