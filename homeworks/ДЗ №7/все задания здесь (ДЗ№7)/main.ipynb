{
 "cells": [
  {
   "cell_type": "markdown",
   "metadata": {},
   "source": [
    "Задание 1\n",
    "Напишите программу, которая запрашивает два \n",
    "целых числа x и y, после чего вычисляет и выводит \n",
    "значение x в степени y"
   ]
  },
  {
   "cell_type": "code",
   "execution_count": 1,
   "metadata": {},
   "outputs": [
    {
     "name": "stdout",
     "output_type": "stream",
     "text": [
      "3 в степени 2 равно: 9\n"
     ]
    }
   ],
   "source": [
    "x = int(input(\"Введите число для возведения в степень\"))\n",
    "y = int(input(\"Введите число степени\"))\n",
    "result = x ** y\n",
    "print(f\"{x} в степени {y} равно: {result}\")"
   ]
  },
  {
   "cell_type": "markdown",
   "metadata": {},
   "source": [
    "Задание 2\n",
    "Подсчитать количество целых чисел в диапазоне от \n",
    "100 до 999 у которых есть две одинаковые цифры."
   ]
  },
  {
   "cell_type": "code",
   "execution_count": 41,
   "metadata": {},
   "outputs": [
    {
     "name": "stdout",
     "output_type": "stream",
     "text": [
      "В диапазоне от 100 до 999 количество целых чисел с двумя одинаковыми цифрами равно:  252\n"
     ]
    }
   ],
   "source": [
    "a = 0\n",
    "for num in range(100, 1000):\n",
    "    if len(set(str(num))) != len(str(num)):\n",
    "        a +=1\n",
    "print(f\"В диапазоне от 100 до 999 количество целых чисел с двумя одинаковыми цифрами равно: \", a)\n",
    "        "
   ]
  },
  {
   "cell_type": "markdown",
   "metadata": {},
   "source": [
    "Задание 3\n",
    "Подсчитать количество целых чисел в диапазоне от \n",
    "100 до 9999 у которых все цифры разные."
   ]
  },
  {
   "cell_type": "code",
   "execution_count": 40,
   "metadata": {},
   "outputs": [
    {
     "name": "stdout",
     "output_type": "stream",
     "text": [
      "В диапазоне от 100 до 9999 количество целых чисел равно:  5184\n"
     ]
    }
   ],
   "source": [
    "a = 0\n",
    "for num in range(100, 10000):\n",
    "    if len(set(str(num))) == len(str(num)):\n",
    "        a +=1\n",
    "print(f\"В диапазоне от 100 до 9999 количество целых чисел равно: \", a)"
   ]
  },
  {
   "cell_type": "markdown",
   "metadata": {},
   "source": [
    "Задание 4\n",
    "Пользователь вводит любое целое число. Необходимо из этого целого числа удалить все цифры 3 и 6 и \n",
    "вывести обратно на экран"
   ]
  },
  {
   "cell_type": "code",
   "execution_count": 1,
   "metadata": {},
   "outputs": [
    {
     "name": "stdout",
     "output_type": "stream",
     "text": [
      "После удаления из числа цифр 3 и 6, оно преобразовалось в новое число: \n",
      "55\n"
     ]
    }
   ],
   "source": [
    "\n",
    "print(\"После удаления из числа цифр 3 и 6, оно преобразовалось в новое число: \")\n",
    "print(int(''.join(filter(lambda x: x not in '36', input('n = ')))))\n"
   ]
  },
  {
   "cell_type": "code",
   "execution_count": null,
   "metadata": {},
   "outputs": [
    {
     "ename": "TypeError",
     "evalue": "'builtin_function_or_method' object is not subscriptable",
     "output_type": "error",
     "traceback": [
      "\u001b[1;31m---------------------------------------------------------------------------\u001b[0m",
      "\u001b[1;31mTypeError\u001b[0m                                 Traceback (most recent call last)",
      "Cell \u001b[1;32mIn[35], line 3\u001b[0m\n\u001b[0;32m      1\u001b[0m \u001b[38;5;28mstr\u001b[39m \u001b[38;5;241m=\u001b[39m  \u001b[38;5;124m\"\u001b[39m\u001b[38;5;124mДовод\u001b[39m\u001b[38;5;124m\"\u001b[39m\n\u001b[1;32m----> 3\u001b[0m \u001b[38;5;28mprint\u001b[39m(\u001b[38;5;28;43mstr\u001b[39;49m\u001b[38;5;241;43m.\u001b[39;49m\u001b[43mlower\u001b[49m\u001b[43m[\u001b[49m\u001b[43m:\u001b[49m\u001b[43m:\u001b[49m\u001b[38;5;241;43m1\u001b[39;49m\u001b[43m]\u001b[49m)\n\u001b[0;32m      4\u001b[0m \u001b[38;5;28mprint\u001b[39m(\u001b[38;5;28mstr\u001b[39m\u001b[38;5;241m.\u001b[39mlower[::\u001b[38;5;241m-\u001b[39m\u001b[38;5;241m1\u001b[39m])\n\u001b[0;32m      5\u001b[0m \u001b[38;5;28;01mif\u001b[39;00m \u001b[38;5;28mstr\u001b[39m[::\u001b[38;5;241m1\u001b[39m] \u001b[38;5;241m==\u001b[39m \u001b[38;5;28mstr\u001b[39m [::\u001b[38;5;241m-\u001b[39m\u001b[38;5;241m1\u001b[39m]:\n",
      "\u001b[1;31mTypeError\u001b[0m: 'builtin_function_or_method' object is not subscriptable"
     ]
    }
   ],
   "source": [
    "\n",
    "str =  \"Довод\"\n",
    "\n",
    "print(str[::1])\n",
    "print(str[::-1])\n",
    "if str[::1] == str [::-1]:\n",
    "    print(\"Равны\")\n",
    "elif str[::1] != str [::-1]:\n",
    "    print(\"Неравны\")\n"
   ]
  }
 ],
 "metadata": {
  "kernelspec": {
   "display_name": "Python 3",
   "language": "python",
   "name": "python3"
  },
  "language_info": {
   "codemirror_mode": {
    "name": "ipython",
    "version": 3
   },
   "file_extension": ".py",
   "mimetype": "text/x-python",
   "name": "python",
   "nbconvert_exporter": "python",
   "pygments_lexer": "ipython3",
   "version": "3.12.4"
  }
 },
 "nbformat": 4,
 "nbformat_minor": 2
}
