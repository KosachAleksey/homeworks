{
 "cells": [
  {
   "cell_type": "markdown",
   "metadata": {},
   "source": [
    "Задание 1\n",
    "Пользователь вводит с клавиатуры два числа (начло и конец диапазона). Требуется проанализировать все \n",
    "числа в этом диапазоне по следующему правилу: если \n",
    "число кратно 7, его надо выводить на экран"
   ]
  },
  {
   "cell_type": "code",
   "execution_count": 10,
   "metadata": {},
   "outputs": [
    {
     "name": "stdout",
     "output_type": "stream",
     "text": [
      "В диапазоне от 3 до 66 кратны 7 следующие числа:\n",
      "7\t14\t21\t28\t35\t42\t49\t56\t63\t"
     ]
    }
   ],
   "source": [
    "start_num = int(input(\"Введите число начало диапазона\"))\n",
    "finish_num = int(input(\"Введите число начало диапазона\"))\n",
    "print(f\"В диапазоне от {start_num} до {finish_num} кратны 7 следующие числа:\")\n",
    "for num in range(start_num, finish_num+1):\n",
    "    if num % 7 == 0:\n",
    "        print(num, end='\\t')\n",
    "    "
   ]
  },
  {
   "cell_type": "markdown",
   "metadata": {},
   "source": [
    "Задание 2\n",
    "Пользователь вводит с клавиатуры два числа (начало и конец диапазона). Требуется проанализировать все числа в этом диапазоне. Нужно вывести на экран\n",
    "1. Все числа диапазона;\n",
    "2. Все числа диапазона в убывающем порядке;\n",
    "3. Все числа, кратные 7;\n",
    "4. Количество чисел, кратных 5"
   ]
  },
  {
   "cell_type": "code",
   "execution_count": 58,
   "metadata": {},
   "outputs": [
    {
     "name": "stdout",
     "output_type": "stream",
     "text": [
      " Все числа диапазона: \n",
      "1\t2\t3\t4\t5\t6\t7\t8\t9\t10\t11\t12\t13\t14\t15\t16\t17\t18\t19\t20\t21\t22\t23\t24\t25\t\n",
      " Все числа диапазона в убывающем порядке: \n",
      "25\t24\t23\t22\t21\t20\t19\t18\t17\t16\t15\t14\t13\t12\t11\t10\t9\t8\t7\t6\t5\t4\t3\t2\t1\t\n",
      " В диапазоне от 1 до 25 кратны 7 следующие числа:\n",
      "7\t14\t21\t\n",
      " В диапазоне от 1 до 25 Количество чисел, кратных 5 равно: \n",
      "5\t"
     ]
    }
   ],
   "source": [
    "start_num = int(input(\"Введите число начало диапазона\"))\n",
    "finish_num = int(input(\"Введите число начало диапазона\"))\n",
    "print(\" Все числа диапазона: \")\n",
    "for num in range(start_num, finish_num+1 ):\n",
    "    print( num, end='\\t' )\n",
    "\n",
    "print('\\n', \"Все числа диапазона в убывающем порядке: \")\n",
    "\n",
    "for num2 in range( finish_num, start_num-1, -1):\n",
    "    print( num2, end='\\t' )\n",
    "\n",
    "print('\\n', f\"В диапазоне от {start_num} до {finish_num} кратны 7 следующие числа:\")\n",
    "for num in range(start_num, finish_num+1):\n",
    "    if num % 7 == 0:\n",
    "        print(num, end='\\t')\n",
    "\n",
    "print('\\n', f\"В диапазоне от {start_num} до {finish_num} Количество чисел, кратных 5 равно: \")\n",
    "count = 0\n",
    "for num in range(start_num, finish_num+1):\n",
    "    if num % 5 == 0:\n",
    "        count += 1\n",
    "print(count, end='\\t')\n",
    "\n",
    "\n"
   ]
  },
  {
   "cell_type": "markdown",
   "metadata": {},
   "source": [
    "Задание 3\n",
    "Пользователь вводит с клавиатуры два числа (начало и конец диапазона). Требуется проанализировать все числа в этом диапазоне. Вывод на экран должен проходить по правилам, указанным ниже.\n",
    "Если число кратно 3 (делится на 3 без остатка) нужно \n",
    "вывести слово Fizz. Если число кратно 5 нужно выве\u00021\n",
    "сти слово Buzz. Если число кратно 3 и 5 нужно вывести \n",
    "Fizz Buzz. Если число не кратно не 3 и 5 нужно вывести \n",
    "само число"
   ]
  },
  {
   "cell_type": "code",
   "execution_count": 65,
   "metadata": {},
   "outputs": [
    {
     "name": "stdout",
     "output_type": "stream",
     "text": [
      "В диапазоне от 1 до 45:\n",
      "1\n",
      "2\n",
      "Fizz\n",
      "4\n",
      "Buzz\n",
      "Fizz\n",
      "7\n",
      "8\n",
      "Fizz\n",
      "Buzz\n",
      "11\n",
      "Fizz\n",
      "13\n",
      "14\n",
      "FizzBuzz\n",
      "16\n",
      "17\n",
      "Fizz\n",
      "19\n",
      "Buzz\n",
      "Fizz\n",
      "22\n",
      "23\n",
      "Fizz\n",
      "Buzz\n",
      "26\n",
      "Fizz\n",
      "28\n",
      "29\n",
      "FizzBuzz\n",
      "31\n",
      "32\n",
      "Fizz\n",
      "34\n",
      "Buzz\n",
      "Fizz\n",
      "37\n",
      "38\n",
      "Fizz\n",
      "Buzz\n",
      "41\n",
      "Fizz\n",
      "43\n",
      "44\n",
      "FizzBuzz\n"
     ]
    }
   ],
   "source": [
    "start_num = int(input(\"Введите число начало диапазона\"))\n",
    "finish_num = int(input(\"Введите число начало диапазона\"))\n",
    "print(f\"В диапазоне от {start_num} до {finish_num}:\")\n",
    "for num in range(start_num, finish_num+1):\n",
    "    if num % 5 == 0 and num % 3 == 0:\n",
    "        print(\"FizzBuzz\")\n",
    "    elif num % 5 == 0:\n",
    "        print(\"Buzz\")\n",
    "    elif num % 5 == 0 and num % 3 == 0:\n",
    "        print(\"FizzBuzz\")\n",
    "    elif num % 3 == 0:\n",
    "        print(\"Fizz\")\n",
    "    elif num % 3 != 0:\n",
    "        print(num)\n",
    "    elif num % 5 != 0:\n",
    "        print(num)"
   ]
  }
 ],
 "metadata": {
  "kernelspec": {
   "display_name": "Python 3",
   "language": "python",
   "name": "python3"
  },
  "language_info": {
   "codemirror_mode": {
    "name": "ipython",
    "version": 3
   },
   "file_extension": ".py",
   "mimetype": "text/x-python",
   "name": "python",
   "nbconvert_exporter": "python",
   "pygments_lexer": "ipython3",
   "version": "3.12.4"
  }
 },
 "nbformat": 4,
 "nbformat_minor": 2
}
