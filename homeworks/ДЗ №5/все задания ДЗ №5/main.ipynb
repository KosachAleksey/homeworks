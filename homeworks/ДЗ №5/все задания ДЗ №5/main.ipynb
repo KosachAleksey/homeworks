{
 "cells": [
  {
   "cell_type": "markdown",
   "metadata": {},
   "source": [
    "Задание 1\n",
    "Пользователь вводит с клавиатурыдва числа. Нужно \n",
    "посчитать отдельно сумму четных, нечетных и чисел, \n",
    "кратных 9 в указанном диапазоне, а также среднеарифметическое каждой группы."
   ]
  },
  {
   "cell_type": "code",
   "execution_count": 22,
   "metadata": {},
   "outputs": [
    {
     "name": "stdout",
     "output_type": "stream",
     "text": [
      "Сумма нечетный чисел равна:  1\n",
      "Сумма четный чисел равна:  2\n",
      "Сумма нечетный чисел равна:  4\n",
      "Сумма четный чисел равна:  6\n",
      "Сумма нечетный чисел равна:  9\n",
      "Сумма четный чисел равна:  12\n",
      "Сумма нечетный чисел равна:  16\n",
      "Сумма четный чисел равна:  20\n",
      "Сумма нечетный чисел равна:  25\n",
      "Сумма кратных на 9:  9\n",
      "Сумма четный чисел равна:  30\n"
     ]
    }
   ],
   "source": [
    "num_1 = int(input(\"Введите первое число\"))\n",
    "num_2 = int(input(\"Введите второе число\"))\n",
    "sum_odd = 0\n",
    "sum_even = 0\n",
    "summ9 = 0\n",
    "for i in range (num_1,num_2+1):\n",
    "   \n",
    "    if i % 2 == 0:\n",
    "       sum_even += i\n",
    "       print(\"Сумма четный чисел равна: \",sum_even)\n",
    "    if i % 2 != 0:\n",
    "      sum_odd += i\n",
    "      print(f\"Сумма нечетный чисел равна: \",sum_odd)\n",
    "    if i%9==0:\n",
    "        summ9+=i\n",
    "        print(\"Сумма кратных на 9: \",summ9)\n",
    "\n"
   ]
  },
  {
   "cell_type": "markdown",
   "metadata": {},
   "source": [
    "Задание 2\n",
    "Пользователь вводит с клавиатуры длину линии и \n",
    "символ для заполнения линии. Нужно отобразить на \n",
    "экране вертикальную линию из введенного символа, \n",
    "указанной длины. \n",
    "Например, если было введено 5 и символ %, тогда \n",
    "вывод на экран будет такой:\n",
    "%\n",
    "%\n",
    "%\n",
    "%\n",
    "%"
   ]
  },
  {
   "cell_type": "code",
   "execution_count": 25,
   "metadata": {},
   "outputs": [
    {
     "name": "stdout",
     "output_type": "stream",
     "text": [
      "%\t%\t%\t%\t%\t%\t%\t%\t%\t%\t"
     ]
    }
   ],
   "source": [
    "line_length = int(input(\"Введите с клавиатуры длину линии\"))\n",
    "sign = (input(\"Введите символ для заполнения линиии\"))\n",
    "for i in range (line_length):\n",
    "    print(sign, end='\\t')\n",
    "\n"
   ]
  },
  {
   "cell_type": "markdown",
   "metadata": {},
   "source": [
    "Задание 3\n",
    "Пользователь вводит с клавиатуры числа. Если число больше нуля нужно вывести надпись «Numberis positive», если меньше нуля «Numberis negative», если равно нулю «Number is equal to zero». Когда пользователь вводит число 7 программа прекращае свою работу и выводит на экран надпись «Good bye!»"
   ]
  },
  {
   "cell_type": "code",
   "execution_count": 28,
   "metadata": {},
   "outputs": [
    {
     "name": "stdout",
     "output_type": "stream",
     "text": [
      "Numberis positive\n",
      "Numberis positive\n",
      "Numberis positive\n",
      "Good bye!\n"
     ]
    }
   ],
   "source": [
    "while True:\n",
    "    num = int(input(\"Введите число\"))\n",
    "    if num > 0:\n",
    "        print(\"Numberis positive\")\n",
    "    elif num < 0:\n",
    "        print(\"Numberis negative\")\n",
    "    elif num == 0:\n",
    "        print(\"Number is equal to zero\")\n",
    "    if num == 7: \n",
    "        print(\"Good bye!\")\n",
    "        break\n",
    "    \n",
    "    \n"
   ]
  },
  {
   "cell_type": "markdown",
   "metadata": {},
   "source": [
    "Задание 4\n",
    "Пользователь вводит с клавиатуры числа. Программа должна подсчитывать сумму, максимум и минимум, \n",
    "введенных чисел. Когда пользователь вводит число 7 \n",
    "программа прекращает свою работу и выводит на экран \n",
    "надпись «Good bye!»"
   ]
  },
  {
   "cell_type": "code",
   "execution_count": null,
   "metadata": {},
   "outputs": [
    {
     "name": "stdout",
     "output_type": "stream",
     "text": [
      "Good bye\n",
      "Сумма введенных чисел равна  14\n",
      "Максиммальное из введенных чисел это -  7\n"
     ]
    }
   ],
   "source": [
    "q = 0\n",
    "q_max = 0\n",
    "q_min = 0\n",
    "while (True):\n",
    "    a = int(input(\"Введите число\"))\n",
    "    if a < q_min:\n",
    "        q_min = a\n",
    "        \n",
    "    elif a > q_max:\n",
    "        q_max = a\n",
    "        q = q + a\n",
    "    elif a == 7:\n",
    "        print(\"Good bye\") \n",
    "        break\n",
    "print('Сумма введенных чисел равна ', q)\n",
    "print(\"Максиммальное из введенных чисел это - \",q_max)\n",
    "print(\"Минимальное из введенных чисел это - \",q_min)\n"
   ]
  }
 ],
 "metadata": {
  "kernelspec": {
   "display_name": "Python 3",
   "language": "python",
   "name": "python3"
  },
  "language_info": {
   "codemirror_mode": {
    "name": "ipython",
    "version": 3
   },
   "file_extension": ".py",
   "mimetype": "text/x-python",
   "name": "python",
   "nbconvert_exporter": "python",
   "pygments_lexer": "ipython3",
   "version": "3.12.4"
  }
 },
 "nbformat": 4,
 "nbformat_minor": 2
}
