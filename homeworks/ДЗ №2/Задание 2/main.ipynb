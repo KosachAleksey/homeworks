{
 "cells": [
  {
   "cell_type": "markdown",
   "metadata": {},
   "source": [
    "Задание 2\n",
    "Пользователь вводит с клавиатуры число, состоящее \n",
    "из четырех цифр. Требуется найти произведение цифр. \n",
    "Например, если с клавиатуры введено 1324, тогда резулmтат произведения 1*3*2*4 = 24"
   ]
  },
  {
   "cell_type": "code",
   "execution_count": 8,
   "metadata": {},
   "outputs": [
    {
     "name": "stdout",
     "output_type": "stream",
     "text": [
      "Произведение цифр:  24\n"
     ]
    }
   ],
   "source": [
    "number = input(\"Введите четырехзначное число: \")\n",
    "if len(number) != 4 or not number.isdigit():\n",
    "        print(\"Не верный ввод, введите именно четырехзначное число.\")\n",
    "        \n",
    "else: product_of_numbers = 1\n",
    "for digit in number:\n",
    "        product_of_numbers *= int(digit)\n",
    "        \n",
    "print(\"Произведение цифр: \", product_of_numbers)"
   ]
  }
 ],
 "metadata": {
  "kernelspec": {
   "display_name": "Python 3",
   "language": "python",
   "name": "python3"
  },
  "language_info": {
   "codemirror_mode": {
    "name": "ipython",
    "version": 3
   },
   "file_extension": ".py",
   "mimetype": "text/x-python",
   "name": "python",
   "nbconvert_exporter": "python",
   "pygments_lexer": "ipython3",
   "version": "3.12.4"
  }
 },
 "nbformat": 4,
 "nbformat_minor": 2
}
