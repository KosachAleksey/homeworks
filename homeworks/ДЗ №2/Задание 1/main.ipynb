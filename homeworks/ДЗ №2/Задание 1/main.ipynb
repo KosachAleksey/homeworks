{
 "cells": [
  {
   "cell_type": "markdown",
   "metadata": {},
   "source": [
    "Задание 1\n",
    "Пользователь вводит с клавиатуры три цифры. Необходимо создать число, содержащее эти цифры. Например, \n",
    "если с клавиатуры введено 1, 5, 7, тогда нужно сформировать число 157."
   ]
  },
  {
   "cell_type": "code",
   "execution_count": 2,
   "metadata": {},
   "outputs": [
    {
     "name": "stdout",
     "output_type": "stream",
     "text": [
      "Сформированное число:  5 6 7\n"
     ]
    }
   ],
   "source": [
    "num1 = int(input(\"Введите первую цифру трехзначного числа: \"))\n",
    "num2 = int(input(\"Введите вторую цифру трехзначного числа: \"))\n",
    "num3 = int(input(\"Введите третью цифру трехзначного числа: \"))\n",
    "print(\"Сформированное число: \", num1, num2, num3)\n",
    "\n"
   ]
  }
 ],
 "metadata": {
  "kernelspec": {
   "display_name": "Python 3",
   "language": "python",
   "name": "python3"
  },
  "language_info": {
   "codemirror_mode": {
    "name": "ipython",
    "version": 3
   },
   "file_extension": ".py",
   "mimetype": "text/x-python",
   "name": "python",
   "nbconvert_exporter": "python",
   "pygments_lexer": "ipython3",
   "version": "3.12.4"
  }
 },
 "nbformat": 4,
 "nbformat_minor": 2
}
