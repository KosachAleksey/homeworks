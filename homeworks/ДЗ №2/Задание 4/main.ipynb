{
 "cells": [
  {
   "cell_type": "markdown",
   "metadata": {},
   "source": [
    "\n",
    "Задание 4\n",
    "\n",
    "Пользователь вводит основание и высоту треугольника, и мы вычисляем его площадь."
   ]
  },
  {
   "cell_type": "code",
   "execution_count": null,
   "metadata": {},
   "outputs": [
    {
     "name": "stdout",
     "output_type": "stream",
     "text": [
      "Площадь треугольника:  10.5\n"
     ]
    }
   ],
   "source": [
    "b = float(input(\"Введите длину основания треугольника: \"))\n",
    "h = float(input(\"Введите высоты треугольника: \"))\n",
    "s = (b * h) / 2\n",
    "print(\"Площадь треугольника равна: \", s )"
   ]
  }
 ],
 "metadata": {
  "kernelspec": {
   "display_name": "Python 3",
   "language": "python",
   "name": "python3"
  },
  "language_info": {
   "codemirror_mode": {
    "name": "ipython",
    "version": 3
   },
   "file_extension": ".py",
   "mimetype": "text/x-python",
   "name": "python",
   "nbconvert_exporter": "python",
   "pygments_lexer": "ipython3",
   "version": "3.12.4"
  }
 },
 "nbformat": 4,
 "nbformat_minor": 2
}
