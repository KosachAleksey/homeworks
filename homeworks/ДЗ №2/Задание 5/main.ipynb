{
 "cells": [
  {
   "cell_type": "markdown",
   "metadata": {},
   "source": [
    "Задание 5\n",
    "\n",
    "Пользователь вводит четырехзначное число, и мы переворачиваем его."
   ]
  },
  {
   "cell_type": "code",
   "execution_count": 6,
   "metadata": {},
   "outputs": [
    {
     "name": "stdout",
     "output_type": "stream",
     "text": [
      "Перевернутое число:  4321\n"
     ]
    }
   ],
   "source": [
    "num = input(\"Введите четырехзначное число: \")\n",
    "if len(num) != 4 or not num.isdigit():\n",
    "        print(\"Невеный ввод!Пожалуйста, введите именно четырехзначное число.\")\n",
    "        \n",
    "revers_num = num[ : :-1]\n",
    "print(\"Перевернутое число: \", revers_num )"
   ]
  }
 ],
 "metadata": {
  "kernelspec": {
   "display_name": "Python 3",
   "language": "python",
   "name": "python3"
  },
  "language_info": {
   "codemirror_mode": {
    "name": "ipython",
    "version": 3
   },
   "file_extension": ".py",
   "mimetype": "text/x-python",
   "name": "python",
   "nbconvert_exporter": "python",
   "pygments_lexer": "ipython3",
   "version": "3.12.4"
  }
 },
 "nbformat": 4,
 "nbformat_minor": 2
}
