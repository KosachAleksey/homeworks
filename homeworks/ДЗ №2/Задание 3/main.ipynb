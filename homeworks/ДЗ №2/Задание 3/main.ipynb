{
 "cells": [
  {
   "cell_type": "markdown",
   "metadata": {},
   "source": [
    "▎Задание 3\n",
    "\n",
    "Пользователь вводит количество метров, и мы переводим это значение в сантиметры, дециметры, миллиметры и мили."
   ]
  },
  {
   "cell_type": "code",
   "execution_count": null,
   "metadata": {},
   "outputs": [
    {
     "name": "stdout",
     "output_type": "stream",
     "text": [
      "11 метров равно:\n",
      "1100 сантиметрам\n",
      "110 дециметрам\n",
      "11000 миллиметрам\n",
      "0.006835100103147875 милям\n"
     ]
    }
   ],
   "source": [
    "meters = int(input(\"Введите количество метров: \"))\n",
    "centimeters = meters * 100\n",
    "decimeters = meters * 10\n",
    "millimeters = meters * 1000\n",
    "miles = meters / 1609.34  # миля = 1609.34 метра\n",
    "print(meters, \"метров равно:\")\n",
    "print(centimeters, \"сантиметрам\")\n",
    "print(decimeters, \"дециметрам\")\n",
    "print(millimeters, \"миллиметрам\")\n",
    "print(miles, \"милям\")\n",
    "    "
   ]
  },
  {
   "cell_type": "markdown",
   "metadata": {},
   "source": []
  }
 ],
 "metadata": {
  "kernelspec": {
   "display_name": "Python 3",
   "language": "python",
   "name": "python3"
  },
  "language_info": {
   "codemirror_mode": {
    "name": "ipython",
    "version": 3
   },
   "file_extension": ".py",
   "mimetype": "text/x-python",
   "name": "python",
   "nbconvert_exporter": "python",
   "pygments_lexer": "ipython3",
   "version": "3.12.4"
  }
 },
 "nbformat": 4,
 "nbformat_minor": 2
}
