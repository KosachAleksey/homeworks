{
 "cells": [
  {
   "cell_type": "markdown",
   "metadata": {},
   "source": [
    "Задание 1\n",
    "Пользователь вводит с клавиатуры три числа. В за\u0002висимости от выбора пользователя программа выводит \n",
    "на экран сумму трёх чисел или произведение трёх чисел"
   ]
  },
  {
   "cell_type": "code",
   "execution_count": null,
   "metadata": {},
   "outputs": [
    {
     "name": "stdout",
     "output_type": "stream",
     "text": [
      "Сумма введенных вами трех чисел 2, 2 и 3 равна: 7\n"
     ]
    }
   ],
   "source": [
    "choice = int(input(\"Что хотите вычислить? (1 - сумму трех чисел, 2 - произведение трех чисел): \"))\n",
    "num_1 = int(input(\"Введите первое число: \"))\n",
    "num_2 = int(input(\"Введите второе число: \"))\n",
    "num_3 = int(input(\"Введите третье число: \"))\n",
    "if choice == 1:\n",
    "    sum = num_1 + num_2 + num_3\n",
    "    print(f\"Сумма введенных вами трех чисел {num_1}, {num_2} и {num_3} равна: {sum}\")\n",
    "elif choice == 2:\n",
    "    product = num_1 * num_2 * num_3\n",
    "    print(f\"Произведение введенных вами трех чисел {num_1}, {num_2} и {num_3} равна: {product}\")\n",
    "else: print(\"Вы неверно ввели числа для выбора действия и/или вычисления. Введите согласно условиям ввода.\")\n"
   ]
  },
  {
   "cell_type": "markdown",
   "metadata": {},
   "source": [
    "Задание 2\n",
    "Пользователь вводит с клавиатуры три числа. В зависимости от выбора пользователя программа выводит \n",
    "на экран максимум из трёх, минимум из трёх или среднеарифметическое трёх чисел."
   ]
  },
  {
   "cell_type": "code",
   "execution_count": 9,
   "metadata": {},
   "outputs": [
    {
     "name": "stdout",
     "output_type": "stream",
     "text": [
      "Из введенных вами трех чисел 45, 56 и 8 максимальным являеься: 56\n"
     ]
    }
   ],
   "source": [
    "choice = int(input(\"Что хотите определить? (1 - максимум из трёх чисел, 2 - минимум из трёх чисел, 3 - среднеарифметическое трёх чисел): \"))\n",
    "num_1 = int(input(\"Введите первое число: \"))\n",
    "num_2 = int(input(\"Введите второе число: \"))\n",
    "num_3 = int(input(\"Введите третье число: \"))\n",
    "list = [num_1, num_2, num_3]\n",
    "if choice == 1:\n",
    "    max_number = max (list)\n",
    "    print(f\"Из введенных вами трех чисел {num_1}, {num_2} и {num_3} максимальным являеься: { max_number}\")\n",
    "elif choice == 2:\n",
    "    min_number = min (list)\n",
    "    print(f\"Из введенных вами трех чисел {num_1}, {num_2} и {num_3} минимальным являеься: { min_number}\")\n",
    "elif choice == 3:\n",
    "    average_number = (num_1 + num_2 + num_3) / 3\n",
    "    print(f\"Средним числом введенных вами трех чисел {num_1}, {num_2} и {num_3} являеься: { average_number}\")\n",
    "else: print(\"Вы неверно ввели числа для выбора действия и/или вычисления. Введите согласно условиям ввода.\")"
   ]
  },
  {
   "cell_type": "markdown",
   "metadata": {},
   "source": [
    "Задание 3\n",
    "Пользователь вводит с клавиатуры количество метров. В зависимости от выбора пользователя программа \n",
    "переводит метры в мили, дюймы или ярды."
   ]
  },
  {
   "cell_type": "code",
   "execution_count": 16,
   "metadata": {},
   "outputs": [
    {
     "name": "stdout",
     "output_type": "stream",
     "text": [
      "5345345 метров соответствует 210446232.65 дюймам\n"
     ]
    }
   ],
   "source": [
    "meters = int(input(\"Введите количество метров: \"))\n",
    "choice = int(input(f\"В какую единицу измерения вы хотите перевести {meters} метров? (1 - в мили, 2 - в дюймы, 3 - в ярды): \"))\n",
    "if choice == 1:\n",
    "    miles = meters / 1609.34\n",
    "    print(f\"{meters} метров соответствует {miles:.2f} миле/ям\")\n",
    "elif choice == 2:\n",
    "    inch = meters * 39.37\n",
    "    print(f\"{meters} метров соответствует {inch:.2f} дюймам\")\n",
    "elif choice == 3:\n",
    "    yards = meters * 1.0936\n",
    "    print(f\"{meters} метров соответствует {yards:.2f} ярдам\")\n",
    "else: print(\"Вы неверно ввели числа для выбора действия и/или вычисления. Введите согласно условиям ввода.\")\n"
   ]
  }
 ],
 "metadata": {
  "kernelspec": {
   "display_name": "Python 3",
   "language": "python",
   "name": "python3"
  },
  "language_info": {
   "codemirror_mode": {
    "name": "ipython",
    "version": 3
   },
   "file_extension": ".py",
   "mimetype": "text/x-python",
   "name": "python",
   "nbconvert_exporter": "python",
   "pygments_lexer": "ipython3",
   "version": "3.12.4"
  }
 },
 "nbformat": 4,
 "nbformat_minor": 2
}
