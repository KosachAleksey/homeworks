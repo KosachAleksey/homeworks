{
 "cells": [
  {
   "cell_type": "markdown",
   "metadata": {},
   "source": [
    "Задание 1\n",
    "Пользователь вводит с клавиатуры число в диапа\u0002зоне от 1 до 100. Если число кратно 3 (делится на 3 без \n",
    "остатка) нужно вывести слово Fizz. Если число кратно 5 \n",
    "нужно вывести слово Buzz. Если число кратно 3 и 5 нужно \n",
    "вывести Fizz Buzz. Если число не кратно не 3 и 5 нужно \n",
    "вывести само число. \n",
    "Если пользователь ввел значение не в диапазоне от 1 \n",
    "до 100 требуется вывести сообщение об ошибке."
   ]
  },
  {
   "cell_type": "code",
   "execution_count": 17,
   "metadata": {},
   "outputs": [
    {
     "name": "stdout",
     "output_type": "stream",
     "text": [
      "2\n",
      "Fizz\n",
      "4\n",
      "Buzz\n"
     ]
    }
   ],
   "source": [
    "start_num = int(input(\"Введите число в диапазоне от 1 до 100\"))\n",
    "if start_num  < 1:\n",
    "        print(\"Ошибка! Введеное число не в указанном диапазоне!\")\n",
    "elif start_num  > 100:\n",
    "        print(\"Ошибка! Введеное число не в указанном диапазоне!\")\n",
    "elif start_num  < 101:\n",
    "    for num in range(start_num+1):\n",
    "        if num < 101 and num > 1:\n",
    "            if num % 5 == 0 and num % 3 == 0:\n",
    "                  print(\"Fizz Buzz\")\n",
    "            elif num % 5 == 0:\n",
    "                print(\"Buzz\")\n",
    "            elif num % 3 == 0:\n",
    "                print(\"Fizz\")\n",
    "            elif num % 3 != 0:\n",
    "                print(num)\n",
    "            elif num % 5 != 0:\n",
    "                print(num)\n",
    "    \n",
    "else: \n",
    "        print(\"Что-то пошло не так. Попробуйте снова.\")\n",
    "\n"
   ]
  },
  {
   "cell_type": "markdown",
   "metadata": {},
   "source": [
    "Задание 2\n",
    "Написать программу, которая по выбору пользователя возводит введенное им число в степень от нулевой до седьмой включительно."
   ]
  },
  {
   "cell_type": "code",
   "execution_count": 1,
   "metadata": {},
   "outputs": [
    {
     "name": "stdout",
     "output_type": "stream",
     "text": [
      "5 в степени 0 равно: 1\n",
      "5 в степени 1 равно: 5\n",
      "5 в степени 2 равно: 25\n",
      "5 в степени 3 равно: 125\n",
      "5 в степени 4 равно: 625\n",
      "5 в степени 5 равно: 3125\n",
      "5 в степени 6 равно: 15625\n",
      "5 в степени 7 равно: 78125\n"
     ]
    }
   ],
   "source": [
    "start_num = int(input(\"Введите число для возведения в степень\"))\n",
    "for ex in range (0, 8):\n",
    "    result = start_num ** ex\n",
    "    print(f\"{start_num} в степени {ex} равно: {result}\")\n"
   ]
  },
  {
   "cell_type": "markdown",
   "metadata": {},
   "source": [
    "Задание 3\n",
    "Написать программу подсчета стоимости разговора для разных мобильных операторов. Пользователь вводит стоимость разговора и выбирает с какого на какой оператор он звонит. Вывести стоимость на экран"
   ]
  },
  {
   "cell_type": "code",
   "execution_count": 28,
   "metadata": {},
   "outputs": [
    {
     "name": "stdout",
     "output_type": "stream",
     "text": [
      "Стоимость разговора с Билайн на Билайн за 9.0 минут сотавила: 9.00 рублей\n"
     ]
    }
   ],
   "source": [
    "def calculate_cost(call_cost, from_operator, to_operator):\n",
    "    # Устанавливаю тарифы для операторов\n",
    "    tariffs = {\n",
    "        'МТС': {'МТС': 1.0, 'Билайн': 1.5, 'Мегафон': 1.2},\n",
    "        'Билайн': {'МТС': 1.5, 'Билайн': 1.0, 'Мегафон': 1.3},\n",
    "        'Мегафон': {'МТС': 1.2, 'Билайн': 1.3, 'Мегафон': 1.0},\n",
    "    }\n",
    "\n",
    "    # Проверяю, есть ли тариф для выбранных операторов\n",
    "    if from_operator in tariffs and to_operator in tariffs[from_operator]:\n",
    "        cost = call_cost * tariffs[from_operator][to_operator]\n",
    "        return cost\n",
    "    else:\n",
    "        return None\n",
    "\n",
    "def main():\n",
    "    \n",
    "    call_cost = float(input(\"Введите количество минут разговора: \"))\n",
    "    \n",
    "    from_operator_choice = int(input(\"Выберите оператора, с которого вы звоните: (1 - МТС/2 - Билайн/3 - Мегафон): \"))\n",
    "    \n",
    "    if from_operator_choice == 1:\n",
    "        from_operator = 'МТС'\n",
    "    elif from_operator_choice == 2:\n",
    "        from_operator = 'Билайн'\n",
    "    elif from_operator_choice == 3:\n",
    "        from_operator = 'Мегафон'\n",
    "    else:\n",
    "        print(\"Неверный выбор оператора.\")\n",
    "        return\n",
    "\n",
    "    \n",
    "    to_operator_choice = int(input(\"Выберите оператора, на который вы звоните:(1 - МТС/2 - Билайн/3 - Мегафон): \"))\n",
    "    \n",
    "    if to_operator_choice == 1:\n",
    "        to_operator = 'МТС'\n",
    "    elif to_operator_choice == 2:\n",
    "        to_operator = 'Билайн'\n",
    "    elif to_operator_choice == 3:\n",
    "        to_operator = 'Мегафон'\n",
    "    else:\n",
    "        print(\"Неверный выбор оператора.\")\n",
    "        return\n",
    "\n",
    "    # Расчет стоимости\n",
    "    total_cost = calculate_cost(call_cost, from_operator, to_operator)\n",
    "\n",
    "    if total_cost is not None:\n",
    "        print(f\"Стоимость разговора с {from_operator} на {to_operator} за {call_cost} минут сотавила: {total_cost:.2f} рублей\")\n",
    "    else:\n",
    "        print(\"Ошибка в расчетах. Проверьте данные.\")\n",
    "\n",
    "if __name__ == \"__main__\":\n",
    "    main()\n",
    "    \n"
   ]
  },
  {
   "cell_type": "markdown",
   "metadata": {},
   "source": [
    "Задание 4\n",
    "Зарплата менеджера составляет 200$ + процент от продаж, продажи до 500$ — 3%, от 500 до 1000 — 5%, свыше \n",
    "1000 — 8%. Пользователь вводит с клавиатуры уровень \n",
    "продаж для трех менеджеров. Определить их зарплату, \n",
    "определить лучшего менеджера, начислить ему премию \n",
    "200$, вывести итоги на экран."
   ]
  },
  {
   "cell_type": "code",
   "execution_count": 38,
   "metadata": {},
   "outputs": [
    {
     "name": "stdout",
     "output_type": "stream",
     "text": [
      " Уровень продаж 1-го менеджера составил 10000.0$, \n",
      " Уровень продаж 2-го менеджера составил 300.0$, \n",
      " Уровень продаж 3-го менеджера составил 600.0$\n",
      "Общая зарплата 1-ого менеджера составила: 960.0$\n",
      "Общая зарплата 2-ого менеджера составила: 209.0$\n",
      "Общая зарплата 3-ого менеджера составила: 220.0$\n",
      "И лучшим стал!\n",
      "1-ый менежер - лучший. Он получает премию 200$. Итого он получит:  1160.0$\n"
     ]
    }
   ],
   "source": [
    "sales_man_1 = float(input(\"Введите уровень продаж 1-ого менеджера в $: \"))\n",
    "sales_man_2 = float(input(\"Введите уровень продаж 2-ого менеджера в $: \"))\n",
    "sales_man_3 = float(input(\"Введите уровень продаж 3-ого менеджера в $: \"))\n",
    "print(f\" Уровень продаж 1-го менеджера составил {sales_man_1}$, \\n Уровень продаж 2-го менеджера составил {sales_man_2}$, \\n Уровень продаж 3-го менеджера составил {sales_man_3}$\")\n",
    "\n",
    "base_salary = 200\n",
    "\n",
    "if sales_man_1 <= 500:\n",
    "        commission = sales_man_1 * 0.03\n",
    "        salary_1 = commission + base_salary\n",
    "        print(f\"Общая зарплата 1-ого менеджера составила: {salary_1}$\")\n",
    "elif sales_man_1 <= 1000:\n",
    "        commission = (500 * 0.03) + ((sales_man_1 - 500) * 0.05)\n",
    "        salary_1 = commission + base_salary\n",
    "        print(f\"Общая зарплата 1-ого менеджера составила: {salary_1}$\")\n",
    "else:\n",
    "        commission = (500 * 0.03) + (500 * 0.05) + ((sales_man_1 - 1000) * 0.08)\n",
    "        salary_1 = commission + base_salary\n",
    "        print(f\"Общая зарплата 1-ого менеджера составила: {salary_1}$\")\n",
    "\n",
    "if sales_man_2 <= 500:\n",
    "        commission = sales_man_2 * 0.03\n",
    "        salary_2 = commission + base_salary\n",
    "        print(f\"Общая зарплата 2-ого менеджера составила: {salary_2}$\")\n",
    "elif sales_man_2 <= 1000:\n",
    "        commission = (500 * 0.03) + ((sales_man_2 - 500) * 0.05)\n",
    "        salary_2 = commission + base_salary\n",
    "        print(f\"Общая зарплата 2-ого менеджера составила: {salary_2}$\")\n",
    "else:\n",
    "        commission = (500 * 0.03) + (500 * 0.05) + ((sales_man_2 - 1000) * 0.08)\n",
    "        salary_2 = commission + base_salary\n",
    "        print(f\"Общая зарплата 2-ого менеджера составила: {salary_2}$\")\n",
    "\n",
    "if sales_man_3 <= 500:\n",
    "        commission = sales_man_3 * 0.03\n",
    "        salary_3 = commission + base_salary\n",
    "        print(f\"Общая зарплата 3-ого менеджера составила: {salary_3}$\")\n",
    "elif sales_man_3 <= 1000:\n",
    "        commission = (500 * 0.03) + ((sales_man_3 - 500) * 0.05)\n",
    "        salary_3 = commission + base_salary\n",
    "        print(f\"Общая зарплата 3-ого менеджера составила: {salary_3}$\")\n",
    "else:\n",
    "        commission = (500 * 0.03) + (500 * 0.05) + ((sales_man_3 - 1000) * 0.08)\n",
    "        salary_3 = commission + base_salary\n",
    "        print(f\"Общая зарплата 3-ого менеджера составила: {salary_3}$\")\n",
    "\n",
    "print(\"И лучшим стал!\")\n",
    "best = max(salary_1, salary_2, salary_3)\n",
    "if best == salary_1:\n",
    "        total = salary_1 + 200\n",
    "        print(f\"1-ый менежер - лучший. Он получает премию 200$. Итого он получит:  {total}$\")\n",
    "elif best == salary_2:\n",
    "        total2 = salary_2 + 200\n",
    "        print(f\"2-ый менежер - лучший. Он получает премию 200$. Итого он получит:  {total2}$\")\n",
    "elif best == salary_3:\n",
    "        total3 = salary_3 + 200\n",
    "        print(f\"3-ый менежер - лучший. Он получает премию 200$. Итого он получит:  {total3}$\")\n",
    "    \n",
    "    "
   ]
  }
 ],
 "metadata": {
  "kernelspec": {
   "display_name": "Python 3",
   "language": "python",
   "name": "python3"
  },
  "language_info": {
   "codemirror_mode": {
    "name": "ipython",
    "version": 3
   },
   "file_extension": ".py",
   "mimetype": "text/x-python",
   "name": "python",
   "nbconvert_exporter": "python",
   "pygments_lexer": "ipython3",
   "version": "3.12.4"
  }
 },
 "nbformat": 4,
 "nbformat_minor": 2
}
