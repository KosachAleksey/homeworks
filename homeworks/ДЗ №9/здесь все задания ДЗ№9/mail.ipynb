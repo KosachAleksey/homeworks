{
 "cells": [
  {
   "cell_type": "markdown",
   "metadata": {},
   "source": [
    "Задание 1\n",
    "Два списка целых заполняются случайными числами. \n",
    "Необходимо:\n",
    "■ Сформировать третий список, содержащий элементы \n",
    "обоих списков;\n",
    "■ Сформировать ЧЕТВЕРТЫЙ список, содержащий элементы \n",
    "обоих списков без повторений;\n",
    "■ Сформировать ПЯТЫЙ список, содержащий элементы \n",
    "общие для двух списков;\n",
    "■ Сформировать третий список, содержащий только \n",
    "уникальные элементы каждого из списков;\n",
    "■ Сформировать третий список, содержащий только \n",
    "минимальное и максимальное значение каждого из \n",
    "списков."
   ]
  },
  {
   "cell_type": "code",
   "execution_count": 53,
   "metadata": {},
   "outputs": [
    {
     "name": "stdout",
     "output_type": "stream",
     "text": [
      "1-ый список случайных чисел: [9, 4, 5, 6, 5, 7, 1, 2, 8, 7]\n",
      "2-ый список случайных чисел: [8, 6, 5, 6, 2, 1, 6, 3, 7, 6]\n",
      "3-ый список, содержит элементы 1-ого и 2-ого списков : \n",
      "[9, 4, 5, 6, 5, 7, 1, 2, 8, 7, 8, 6, 5, 6, 2, 1, 6, 3, 7, 6]\n",
      "4-ый объединенный список без повторений: [1, 2, 3, 4, 5, 6, 7, 8, 9]\n",
      "5-ый список содержащий элементы общие для 1-ого и 2-ого списков: [1, 2, 5, 6, 7, 8]\n",
      "Уникальные элементы списка 1: [1, 2, 4, 5, 6, 7, 8, 9]\n",
      "Уникальные элементы списка 2: [1, 2, 3, 5, 6, 7, 8]\n",
      "6-ой список содержащий только уникальные элементы каждого из списков [1, 2, 3, 4, 5, 6, 7, 8, 9]\n",
      "7-ой список: \n",
      " Минимальное и максимальное значение списка 1: [1, 9], \n",
      " Минимальное и максимальное значение списка 2: [1, 8]\n"
     ]
    }
   ],
   "source": [
    "import random\n",
    " \n",
    "rand_list1=[]\n",
    "n=10\n",
    "for i in range(n):\n",
    "    rand_list1.append(random.randint(1,9))\n",
    "print(f\"1-ый список случайных чисел: {rand_list1}\")\n",
    "\n",
    "rand_list2=[]\n",
    "n=10\n",
    "for i in range(n):\n",
    "    rand_list2.append(random.randint(1,9))\n",
    "print(f\"2-ый список случайных чисел: {rand_list2}\") \n",
    "\n",
    "list3 = rand_list1 + rand_list2\n",
    "print(f\"3-ый список, содержит элементы 1-ого и 2-ого списков : \\n{list3}\")\n",
    "\n",
    "list4 = list(set(list3))\n",
    "print(\"4-ый объединенный список без повторений:\", list4)\n",
    "\n",
    "list5 = list(set(rand_list1) & set(rand_list2))\n",
    "print(\"5-ый список содержащий элементы общие для 1-ого и 2-ого списков:\", list5)\n",
    "\n",
    "unique_rand_list1 = list(set(rand_list1))\n",
    "unique_rand_list2 = list(set(rand_list2))\n",
    "print(\"Уникальные элементы списка 1:\", unique_rand_list1)\n",
    "print(\"Уникальные элементы списка 2:\", unique_rand_list2)\n",
    "unique_rand_list12 = unique_rand_list1 + unique_rand_list2\n",
    "unique_rand_list = list(set(unique_rand_list12))\n",
    "print(\"6-ой список содержащий только уникальные элементы каждого из списков\", unique_rand_list)\n",
    "\n",
    "min_max_list1 = [min(rand_list1), max(rand_list1)]\n",
    "min_max_list2 = [min(rand_list2), max(rand_list2)]\n",
    "print(f\"7-ой список: \\n Минимальное и максимальное значение списка 1: {min_max_list1}, \\n Минимальное и максимальное значение списка 2: {min_max_list2}\" )"
   ]
  },
  {
   "cell_type": "markdown",
   "metadata": {},
   "source": []
  }
 ],
 "metadata": {
  "kernelspec": {
   "display_name": "Python 3",
   "language": "python",
   "name": "python3"
  },
  "language_info": {
   "codemirror_mode": {
    "name": "ipython",
    "version": 3
   },
   "file_extension": ".py",
   "mimetype": "text/x-python",
   "name": "python",
   "nbconvert_exporter": "python",
   "pygments_lexer": "ipython3",
   "version": "3.12.4"
  }
 },
 "nbformat": 4,
 "nbformat_minor": 2
}
