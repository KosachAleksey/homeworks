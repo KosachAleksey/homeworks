{
 "cells": [
  {
   "cell_type": "markdown",
   "metadata": {},
   "source": [
    "Задание 1\n",
    "Создайте класс Device, который содержит информацию об устройстве.\n",
    "Спомощью механизма наследования, реализуйте класс CoffeeMashine (содержит информацию о кофемашине)\n",
    "класс Blender (содержит информацию о блендере), класс\n",
    "MeatGrinder (содержит информацию о мясорубке).\n",
    "Каждый из классов должен содержать необходимые\n",
    "для работы методы."
   ]
  },
  {
   "cell_type": "code",
   "execution_count": 12,
   "metadata": {},
   "outputs": [
    {
     "name": "stdout",
     "output_type": "stream",
     "text": [
      "Кухонный бытовой прибор: Кофемашина, компания производитель: Philips, страна производитель: США, производительность: 500 гр/мин.\n",
      "Кухонный бытовой прибор: Блендер, компания производитель: Bosh, страна производитель: Германия скорость вращения 15000 оборотов/мин.\n",
      "Кухонный бытовой прибор: Мясорубка, компания производитель: Bosh, страна производитель: Китай, масса 2.5 кг\n"
     ]
    },
    {
     "data": {
      "text/plain": [
       "['Кухонный бытовой прибор: Кофемашина, компания производитель: Philips, страна производитель: США, производительность: 500 гр/мин.']"
      ]
     },
     "execution_count": 12,
     "metadata": {},
     "output_type": "execute_result"
    }
   ],
   "source": [
    "class Device:\n",
    "    def __init__(self, name, brand, country):\n",
    "        self._name = name\n",
    "        self._brand = brand\n",
    "        self._country = country\n",
    "\n",
    "    def get_name(self):\n",
    "        return self._name \n",
    "    \n",
    "    def get_brand(self):\n",
    "        return self._brand\n",
    "    \n",
    "    def get_country(self):\n",
    "        return self._country\n",
    "    \n",
    "    def info(self):\n",
    "        return f\"Кухонный бытовой прибор: {self._name}, компания производитель: {self._brand}, страна производитель: {self._country}\"\n",
    "\n",
    "class CoffeeMaсhine(Device):\n",
    "    def __init__(self, name, brand, country, performance):\n",
    "        super().__init__(name, brand, country)\n",
    "        self._performance = performance\n",
    "\n",
    "    def info(self):\n",
    "        return f\"{super().info()}, производительность: {self._performance} гр/мин.\"\n",
    "\n",
    "\n",
    "class Blender(Device):\n",
    "    def __init__(self, name, brand, country, rotation_speed):\n",
    "        super().__init__(name, brand, country)\n",
    "        self._rotation_speed = rotation_speed \n",
    "\n",
    "    def info(self):\n",
    "        return f\"{super().info()} скорость вращения {self._rotation_speed} оборотов/мин.\"\n",
    "    \n",
    "class MeatGrinder(Device):\n",
    "    def __init__(self, name, brand, country, weight):\n",
    "        super().__init__(name, brand, country)\n",
    "        self._weight = weight\n",
    "\n",
    "    def info(self):\n",
    "        return f\"{super().info()}, масса {self._weight} кг\"\n",
    "    \n",
    "class SetDevice:\n",
    "    def __init__(self):\n",
    "        self._set_device = []\n",
    "\n",
    "    def add_device(self, device):\n",
    "        self._set_device.append(device)\n",
    "\n",
    "    def find_name(self, search_dev):\n",
    "        return [dev.info() for dev in self._set_device if dev.get_name() == search_dev]\n",
    "    \n",
    "    def list_device(self):\n",
    "        for device in self._set_device:\n",
    "            print(device.info())\n",
    "\n",
    "set_device = SetDevice()\n",
    "\n",
    "coffee_maсhine = CoffeeMaсhine(\"Кофемашина\", \"Philips\", \"США\", 500)\n",
    "blender = Blender(\"Блендер\", \"Bosh\" , \"Германия\", 15000)\n",
    "meat_grinder = MeatGrinder(\"Мясорубка\", \"Bosh\" , \"Китай\", 2.5)\n",
    "\n",
    "\n",
    "\n",
    "set_device.add_device(coffee_maсhine)\n",
    "set_device.add_device(blender)\n",
    "set_device.add_device(meat_grinder)\n",
    "\n",
    "search_term = input(\"Введите наименование искомого прибора\")\n",
    "\n",
    "set_device.list_device()\n",
    "\n",
    "\n",
    "set_device.find_name(search_term)\n",
    "\n",
    "\n",
    "     "
   ]
  },
  {
   "cell_type": "markdown",
   "metadata": {},
   "source": [
    "Задание 2\n",
    "Создайте класс Ship, который содержит информацию\n",
    "о корабле.\n",
    "С помощью механизма наследования, реализуйте\n",
    "класс Frigate (содержит информацию о фрегате), класс\n",
    "Destroyer (содержит информацию об эсминце), класс\n",
    "Cruiser (содержит информацию о крейсере).\n",
    "Каждый из классов должен содержать необходимые\n",
    "для работы методы."
   ]
  },
  {
   "cell_type": "code",
   "execution_count": 17,
   "metadata": {},
   "outputs": [
    {
     "name": "stdout",
     "output_type": "stream",
     "text": [
      "Тип корабля: Фрегат, водоизмещение: 10000 т, страна производитель: США, количество ракет: 500 шт.\n",
      "Тип корабля: Эсминец, водоизмещение: 5000 т, страна производитель: Германия, количество противолодочных бомб: 15 шт.\n",
      "Тип корабля: Крейсер, водоизмещение: 20000 т, страна производитель: Франция, количество снарядов: 2500 шт.\n"
     ]
    }
   ],
   "source": [
    "class Ship:\n",
    "    def __init__(self, name, displacement, country):\n",
    "        self._name = name\n",
    "        self._displacement = displacement\n",
    "        self._country = country\n",
    "\n",
    "    def get_name(self):\n",
    "        return self._name \n",
    "    \n",
    "    def get_displacement(self):\n",
    "        return self._displacement\n",
    "    \n",
    "    def get_country(self):\n",
    "        return self._country\n",
    "    \n",
    "    def info(self):\n",
    "        return f\"Тип корабля: {self._name}, водоизмещение: {self._displacement} т, страна производитель: {self._country}\"\n",
    "\n",
    "class Frigate(Ship):\n",
    "    def __init__(self, name, displacement, country, performance):\n",
    "        super().__init__(name, displacement, country)\n",
    "        self._performance = performance\n",
    "\n",
    "    def info(self):\n",
    "        return f\"{super().info()}, количество ракет: {self._performance} шт.\"\n",
    "\n",
    "\n",
    "class Destroyer(Ship):\n",
    "    def __init__(self, name, displacement, country, bombs):\n",
    "        super().__init__(name, displacement, country)\n",
    "        self._bombs = bombs \n",
    "\n",
    "    def info(self):\n",
    "        return f\"{super().info()}, количество противолодочных бомб: {self._bombs} шт.\"\n",
    "    \n",
    "class Cruiser(Ship):\n",
    "    def __init__(self, name, displacement, country, weight):\n",
    "        super().__init__(name, displacement, country)\n",
    "        self._weight = weight\n",
    "\n",
    "    def info(self):\n",
    "        return f\"{super().info()}, количество снарядов: {self._weight} шт.\"\n",
    "    \n",
    "class Fleet:\n",
    "    def __init__(self):\n",
    "        self._ships = []\n",
    "\n",
    "    def add_ship(self, ship):\n",
    "        self._ships.append(ship)\n",
    "\n",
    "    def find_by_name(self, search_name):\n",
    "        return [ship.info() for ship in self._ships if ship.get_name() == search_name]\n",
    "    \n",
    "    def list_fleet(self):\n",
    "        for ship in self._ships:\n",
    "            print(ship.info())\n",
    "\n",
    "fleet = Fleet()\n",
    "\n",
    "frigate = Frigate(\"Фрегат\", 10000, \"США\", 500)\n",
    "destroyer = Destroyer(\"Эсминец\", 5000, \"Германия\", 15)\n",
    "cruiser = Cruiser(\"Крейсер\", 20000, \"Франция\", 2500)\n",
    "\n",
    "fleet.add_ship(frigate)\n",
    "fleet.add_ship(destroyer)\n",
    "fleet.add_ship(cruiser)\n",
    "\n",
    "fleet.list_fleet()"
   ]
  },
  {
   "cell_type": "markdown",
   "metadata": {},
   "source": [
    "Задание 3\n",
    "Запрограммируйте класс Money (объект класса оперирует одной валютой) для работы с деньгами.\n",
    "В классе должны быть предусмотрены поле для хранения целой части денег (доллары, евро, гривны и т.д.) и\n",
    "поле для хранения копеек (центы, евроценты, копейки\n",
    "и т.д.).\n",
    "Реализовать методы для вывода суммы на экран, задания значений для частей. "
   ]
  },
  {
   "cell_type": "code",
   "execution_count": 22,
   "metadata": {},
   "outputs": [
    {
     "name": "stdout",
     "output_type": "stream",
     "text": [
      "86 долларов 55 центов\n"
     ]
    }
   ],
   "source": [
    "class Money:\n",
    "    def __init__(self, dollars = 0, sents = 0):\n",
    "        self._dollars = dollars\n",
    "        self._sents = sents\n",
    "        self.normalize_look()\n",
    "\n",
    "    def balance_money(self, dollars, sents):\n",
    "        self._dollars = dollars\n",
    "        self._sents = sents\n",
    "        self.normalize_look()\n",
    "        \n",
    "    def normalize_look(self):\n",
    "        if self._sents > 100:\n",
    "            self._dollars = self._dollars + self._sents // 100\n",
    "            self._sents = self._sents % 100\n",
    "        elif self._sents < 0:\n",
    "            self._dollars = self._dollars - self._sents // 100\n",
    "            self._sents = self._sents - 100\n",
    "\n",
    "    def str_balance(self):\n",
    "        return (f\"{self._dollars} долларов {self._sents} центов\")\n",
    "\n",
    "    def display_money(self):\n",
    "        print(self.str_balance())\n",
    "\n",
    "new_balance = Money(82, 455)\n",
    "\n",
    "new_balance.display_money()\n",
    "\n",
    "\n",
    "    "
   ]
  }
 ],
 "metadata": {
  "kernelspec": {
   "display_name": "Python 3",
   "language": "python",
   "name": "python3"
  },
  "language_info": {
   "codemirror_mode": {
    "name": "ipython",
    "version": 3
   },
   "file_extension": ".py",
   "mimetype": "text/x-python",
   "name": "python",
   "nbconvert_exporter": "python",
   "pygments_lexer": "ipython3",
   "version": "3.12.4"
  }
 },
 "nbformat": 4,
 "nbformat_minor": 2
}
