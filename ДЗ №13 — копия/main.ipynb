{
 "cells": [
  {
   "cell_type": "markdown",
   "metadata": {},
   "source": [
    "ДЗ №13"
   ]
  },
  {
   "cell_type": "code",
   "execution_count": 2,
   "metadata": {},
   "outputs": [
    {
     "name": "stdout",
     "output_type": "stream",
     "text": [
      "Инвентарь после добавления товара:\n",
      "{101: {'name': 'Smartphone', 'category': 'Electronics', 'price': 29000, 'quantity': 50}, 102: {'name': 'Laptop', 'category': 'Electronics', 'price': 54000, 'quantity': 30}, 103: {'name': 'Coffee Maker', 'category': 'Appliances', 'price': 7000, 'quantity': 20}, 104: {'name': 'Blender', 'category': 'Appliances', 'price': 5000, 'quantity': 15}}\n",
      "Инвентарь после удаления товара:\n",
      "{101: {'name': 'Smartphone', 'category': 'Electronics', 'price': 29000, 'quantity': 50}, 103: {'name': 'Coffee Maker', 'category': 'Appliances', 'price': 7000, 'quantity': 20}, 104: {'name': 'Blender', 'category': 'Appliances', 'price': 5000, 'quantity': 15}}\n",
      "Инвентарь после обновления количества товара:\n",
      "{101: {'name': 'Smartphone', 'category': 'Electronics', 'price': 29000, 'quantity': 60}, 103: {'name': 'Coffee Maker', 'category': 'Appliances', 'price': 7000, 'quantity': 20}, 104: {'name': 'Blender', 'category': 'Appliances', 'price': 5000, 'quantity': 15}}\n",
      "Уникальные категории товаров:\n",
      "{'Electronics', 'Appliances'}\n"
     ]
    }
   ],
   "source": [
    "# Инициализация инвентаря\n",
    "inventory = {\n",
    "    101: {\"name\": \"Smartphone\", \"category\": \"Electronics\", \"price\": 29000, \"quantity\": 50},\n",
    "    102: {\"name\": \"Laptop\", \"category\": \"Electronics\", \"price\": 54000, \"quantity\": 30},\n",
    "    103: {\"name\": \"Coffee Maker\", \"category\": \"Appliances\", \"price\": 7000, \"quantity\": 20},\n",
    "}\n",
    "\n",
    "# Множество для хранения уникальных категорий\n",
    "categories = set(item['category'] for item in inventory.values())\n",
    "\n",
    "# Функция добавления нового товара\n",
    "def add_product(inventory, product_id, name, category, price, quantity):\n",
    "    if product_id in inventory:\n",
    "        inventory[product_id]['quantity'] += quantity\n",
    "    else:\n",
    "        inventory[product_id] = {\"name\": name, \"category\": category, \"price\": price, \"quantity\": quantity}\n",
    "    categories.add(category)\n",
    "\n",
    "# Функция удаления товара\n",
    "def remove_product(inventory, product_id):\n",
    "    if product_id in inventory:\n",
    "        category = inventory[product_id]['category']  # Сохраняем категорию перед удалением\n",
    "        del inventory[product_id]\n",
    "        # Проверяем, остались ли товары в этой категории\n",
    "        if not any(item['category'] == category for item in inventory.values()):\n",
    "            categories.discard(category)\n",
    "    else:\n",
    "        print(f\"Товар с ID {product_id} не найден.\")\n",
    "\n",
    "# Функция обновления количества товара\n",
    "def update_quantity(inventory, product_id, quantity):\n",
    "    if product_id in inventory:\n",
    "        if quantity <= 0:\n",
    "            remove_product(inventory, product_id)  # Используем функцию удаления\n",
    "        else:\n",
    "            inventory[product_id]['quantity'] = quantity\n",
    "    else:\n",
    "        print(f\"Товар с ID {product_id} не найден.\")\n",
    "\n",
    "# Функция получения списка уникальных категорий\n",
    "def get_unique_categories():\n",
    "    return categories\n",
    "\n",
    "# Примеры использования функций\n",
    "\n",
    "# Добавление нового товара\n",
    "add_product(inventory, 104, \"Blender\", \"Appliances\", 5000, 15)\n",
    "print(\"Инвентарь после добавления товара:\")\n",
    "print(inventory)\n",
    "\n",
    "# Удаление товара\n",
    "remove_product(inventory, 102)\n",
    "print(\"Инвентарь после удаления товара:\")\n",
    "print(inventory)\n",
    "\n",
    "# Обновление количества товара\n",
    "update_quantity(inventory, 101, 60)\n",
    "print(\"Инвентарь после обновления количества товара:\")\n",
    "print(inventory)\n",
    "\n",
    "# Получение уникальных категорий\n",
    "unique_categories = get_unique_categories()\n",
    "print(\"Уникальные категории товаров:\")\n",
    "print(unique_categories)"
   ]
  },
  {
   "cell_type": "markdown",
   "metadata": {},
   "source": [
    "Практикуюсь"
   ]
  },
  {
   "cell_type": "code",
   "execution_count": 15,
   "metadata": {},
   "outputs": [
    {
     "name": "stdout",
     "output_type": "stream",
     "text": [
      "Инвентарь после добавления товара:\n",
      "{101: {'name': 'Smartphone', 'category': 'Electronics', 'price': 29000, 'quantity': 55}, 102: {'name': 'Laptop', 'category': 'Electronics', 'price': 54000, 'quantity': 30}, 103: {'name': 'Coffee Maker', 'category': 'Appliances', 'price': 7000, 'quantity': 20}}\n"
     ]
    }
   ],
   "source": [
    "inventory = {\n",
    "    101: {\"name\": \"Smartphone\", \"category\": \"Electronics\", \"price\": 29000, \"quantity\": 50},\n",
    "    102: {\"name\": \"Laptop\", \"category\": \"Electronics\", \"price\": 54000, \"quantity\": 30},\n",
    "    103: {\"name\": \"Coffee Maker\", \"category\": \"Appliances\", \"price\": 7000, \"quantity\": 20},\n",
    "}\n",
    "\n",
    "categories = set(item['category'] for item in inventory.values())\n",
    "\n",
    "product_id = int(input('Введите ID товара: '))\n",
    "\n",
    "def add_product(inventory, product_id):\n",
    "    if product_id in inventory:\n",
    "        quantity_add = int(input(\"Введите количество для добавления: \"))\n",
    "        inventory[product_id]['quantity'] += quantity_add\n",
    "    else:\n",
    "        names = input(\"Введите наименование: \")\n",
    "        category_add = input(\"Введите категорию: \")\n",
    "        price_add = int(input(\"Введите цену товара: \"))\n",
    "        quantity_add = int(input(\"Введите количество товара: \"))\n",
    "        \n",
    "        inventory[product_id] = {\n",
    "            \"name\": names,\n",
    "            \"category\": category_add,\n",
    "            \"price\": price_add,\n",
    "            \"quantity\": quantity_add\n",
    "        }\n",
    "        categories.add(category_add)\n",
    "\n",
    "add_product(inventory, product_id)\n",
    "print(\"Инвентарь после добавления товара:\")\n",
    "print(inventory)"
   ]
  },
  {
   "cell_type": "code",
   "execution_count": 17,
   "metadata": {},
   "outputs": [
    {
     "name": "stdout",
     "output_type": "stream",
     "text": [
      "{'Appliances', 'Electronics'}\n",
      "Инвентарь после добавления товара:\n",
      "{101: {'name': 'Smartphone', 'category': 'Electronics', 'price': 29000, 'quantity': 57}, 102: {'name': 'Laptop', 'category': 'Electronics', 'price': 54000, 'quantity': 30}, 103: {'name': 'Coffee Maker', 'category': 'Appliances', 'price': 7000, 'quantity': 20}}\n"
     ]
    }
   ],
   "source": [
    "inventory = {\n",
    "    101: {\"name\": \"Smartphone\", \"category\": \"Electronics\", \"price\": 29000, \"quantity\": 50},\n",
    "    102: {\"name\": \"Laptop\", \"category\": \"Electronics\", \"price\": 54000, \"quantity\": 30},\n",
    "    103: {\"name\": \"Coffee Maker\", \"category\": \"Appliances\", \"price\": 7000, \"quantity\": 20},\n",
    "}\n",
    "\n",
    "categories = set(item['category'] for item in inventory.values())\n",
    "categories = set(item['category'] for item in inventory.values())\n",
    "print(categories)\n",
    "categories = set(item['category'] for item in inventory.values())\n",
    "\n",
    "product_id = int(input(\"Введите id продукта\"))\n",
    "\n",
    "def add_product (inventory, product_id):\n",
    "    if product_id in inventory:\n",
    "        quantity_add = int(input(\"Введите количество которое требуется добавть или уменьшить (при уменьшении количество вводите со знаком минус)\"))\n",
    "        inventory[product_id]['quantity'] =  inventory[product_id]['quantity'] + quantity_add\n",
    "    else:\n",
    "        nams = input('Введите наименование товара')\n",
    "        category_add = input(\"Введите категорию: \")\n",
    "        price_add = int(input(\"Введите цену товара: \"))\n",
    "        quantity_add = int(input(\"Введите количество товара: \"))\n",
    "\n",
    "        inventory[product_id] = {\n",
    "            'name':nams,\n",
    "            'category':category_add,\n",
    "            'price': price_add,\n",
    "            'quantity': quantity_add\n",
    "        }\n",
    "        categories.add(category_add)\n",
    "\n",
    "add_product(inventory, product_id)\n",
    "print(\"Инвентарь после добавления товара:\")\n",
    "print(inventory)\n"
   ]
  },
  {
   "cell_type": "code",
   "execution_count": 1,
   "metadata": {},
   "outputs": [
    {
     "name": "stdout",
     "output_type": "stream",
     "text": [
      "Инвентарь после добавления товара:\n",
      "{101: {'name': 'Smartphone', 'category': 'Electronics', 'price': 29000, 'quantity': 53}, 102: {'name': 'Laptop', 'category': 'Electronics', 'price': 54000, 'quantity': 30}, 103: {'name': 'Coffee Maker', 'category': 'Appliances', 'price': 7000, 'quantity': 20}}\n"
     ]
    }
   ],
   "source": [
    "inventory = {\n",
    "    101: {\"name\": \"Smartphone\", \"category\": \"Electronics\", \"price\": 29000, \"quantity\": 50},\n",
    "    102: {\"name\": \"Laptop\", \"category\": \"Electronics\", \"price\": 54000, \"quantity\": 30},\n",
    "    103: {\"name\": \"Coffee Maker\", \"category\": \"Appliances\", \"price\": 7000, \"quantity\": 20},\n",
    "}\n",
    "\n",
    "categories = set(item['category'] for item in inventory.values())\n",
    "categories = set(item['category'] for item in inventory.values())\n",
    "\n",
    "product_id = int(input(\"Введите id продукта\"))\n",
    "\n",
    "def add_product (inventory, product_id):\n",
    "    if product_id in inventory:\n",
    "        quantity_add = int(input(\"Введите добавленное количество: \"))\n",
    "        inventory[product_id]['quantity'] =  inventory[product_id]['quantity'] + quantity_add\n",
    "        \n",
    "    else:\n",
    "        nams = input(\"Ввудите наименование: \"),\n",
    "        category_add = input(\"Введите категорию: \")\n",
    "        price_add = int(input(\"Введите цену товара: \"))\n",
    "        quantity_add = int(input(\"Введите количество товара: \"))\n",
    "\n",
    "        inventory[product_id] = {\n",
    "            'name': nams,\n",
    "            'category': category_add,\n",
    "            'price': price_add,\n",
    "            'quantity': quantity_add\n",
    "        }\n",
    "\n",
    "        categories.add(category_add)\n",
    "        \n",
    "add_product(inventory, product_id) \n",
    "\n",
    "print(\"Инвентарь после добавления товара:\")\n",
    "print(inventory)\n",
    "\n",
    "         \n"
   ]
  },
  {
   "cell_type": "code",
   "execution_count": 9,
   "metadata": {},
   "outputs": [
    {
     "name": "stdout",
     "output_type": "stream",
     "text": [
      "Обновленный список: \n",
      "{101: {'name': 'Smartphone', 'category': 'Electronics', 'price': 29000, 'quantity': 50}, 102: {'name': 'Laptop', 'category': 'Electronics', 'price': 54000, 'quantity': 30}, 103: {'name': 'Coffee Maker', 'category': 'Appliances', 'price': 7000, 'quantity': 20}, 111: {'name': 'стул', 'category': 'мебель', 'price': 2000, 'quantity': 5}}\n"
     ]
    }
   ],
   "source": [
    "inventory = {\n",
    "    101: {\"name\": \"Smartphone\", \"category\": \"Electronics\", \"price\": 29000, \"quantity\": 50},\n",
    "    102: {\"name\": \"Laptop\", \"category\": \"Electronics\", \"price\": 54000, \"quantity\": 30},\n",
    "    103: {\"name\": \"Coffee Maker\", \"category\": \"Appliances\", \"price\": 7000, \"quantity\": 20},\n",
    "}\n",
    "\n",
    "\n",
    "categories = set(item['category'] for item in inventory.values())\n",
    "\n",
    "product_id = int(input(\"Введите id товара: \"))\n",
    "\n",
    "def add_product (inventory, product_id):\n",
    "    if product_id in inventory:\n",
    "        quantity_add = int(input(\"Введите добавленное/отнятое(со знаком минус) количество\"))\n",
    "        inventory[product_id][\"quantity\"] += quantity_add\n",
    "    else:\n",
    "        name_add = input(\"Ввудите имя нового товара\")\n",
    "        category_add = input(f\"Введите новую категорию для товара: {name_add}\")\n",
    "        price_add = int(input(f\"Введите стоимость товара: {name_add}\"))\n",
    "        quantity_add_new = int(input(f\"Введите количество товара: {name_add}\"))\n",
    "\n",
    "        inventory[product_id] = {\n",
    "            \"name\": name_add,\n",
    "            \"category\": category_add,\n",
    "            \"price\": price_add,\n",
    "            \"quantity\": quantity_add_new\n",
    "        }\n",
    "\n",
    "        categories.add(category_add)\n",
    "\n",
    "add_product (inventory, product_id)\n",
    "print(\"Обновленный список: \")\n",
    "print(inventory)"
   ]
  },
  {
   "cell_type": "markdown",
   "metadata": {},
   "source": []
  },
  {
   "cell_type": "code",
   "execution_count": 1,
   "metadata": {},
   "outputs": [
    {
     "name": "stdout",
     "output_type": "stream",
     "text": [
      "Список после обновления: \n",
      "{101: {'name': 'ТВ', 'category': 'Electronics', 'price': 29000, 'quantity': 50}, 102: {'name': 'Laptop', 'category': 'Electronics', 'price': 54000, 'quantity': 30}, 103: {'name': 'Coffee Maker', 'category': 'Appliances', 'price': 7000, 'quantity': 20}, 111: {'name': 'ggg', 'category': 'sss', 'price': 333, 'quantity': 55}}\n"
     ]
    }
   ],
   "source": [
    "inventory = {\n",
    "    101: {\"name\": \"ТВ\", \"category\": \"Electronics\", \"price\": 29000, \"quantity\": 50},\n",
    "    102: {\"name\": \"Laptop\", \"category\": \"Electronics\", \"price\": 54000, \"quantity\": 30},\n",
    "    103: {\"name\": \"Coffee Maker\", \"category\": \"Appliances\", \"price\": 7000, \"quantity\": 20},\n",
    "}\n",
    "\n",
    "categories = set(item['category'] for item in inventory.values())\n",
    "\n",
    "product_id = int(input(\"Введите id товара: \"))\n",
    "\n",
    "def add_product (inventory, product_id):\n",
    "    if product_id in inventory:\n",
    "        quantity_add = int(input(\"Ведите добавленное количество: \"))\n",
    "        inventory[product_id][\"quantity\"] += quantity_add\n",
    "    else:\n",
    "        name_add = input(\"Введите имя нового товара: \")\n",
    "        category_add = input(f\"Укажите категорию для товара: {name_add}\")\n",
    "        price_add = int(input(f\"Введите цену товара: {name_add }\"))\n",
    "        quantity_add_new = int(input(f\"Введите количество товара: {name_add }\"))\n",
    "\n",
    "        inventory[product_id] = {\n",
    "            \"name\": name_add,\n",
    "            \"category\":  category_add,\n",
    "            \"price\": price_add,\n",
    "            \"quantity\": quantity_add_new\n",
    "        }\n",
    "\n",
    "        categories.add(category_add)\n",
    "\n",
    "\n",
    "add_product (inventory, product_id)\n",
    "\n",
    "print(\"Список после обновления: \")\n",
    "print(inventory)\n"
   ]
  },
  {
   "cell_type": "code",
   "execution_count": 3,
   "metadata": {},
   "outputs": [
    {
     "name": "stdout",
     "output_type": "stream",
     "text": [
      "Отсортированные студенты по среднему баллу: [{'name': 'Charlie', 'average': 81}, {'name': 'Alice', 'average': 85}, {'name': 'Bob', 'average': 90}]\n"
     ]
    }
   ],
   "source": [
    "def bubble_sort_students(students):\n",
    "    n = len(students)  # Получаем количество студентов\n",
    "    for i in range(n):\n",
    "        for j in range(0, n-i-1):  # Проходим по списку, исключая уже отсортированные элементы\n",
    "            if students[j]['average'] > students[j+1]['average']:  # Сравниваем средние баллы\n",
    "                # Меняем местами студентов, если они не в порядке\n",
    "                students[j], students[j+1] = students[j+1], students[j]\n",
    "    return students  # Возвращаем отсортированный список студентов\n",
    "\n",
    "students = [\n",
    "    {'name': 'Alice', 'average': 85},\n",
    "    {'name': 'Bob', 'average': 90},\n",
    "    {'name': 'Charlie', 'average': 81}\n",
    "]\n",
    "\n",
    "sorted_students = bubble_sort_students(students)  # Сортируем студентов\n",
    "print(\"Отсортированные студенты по среднему баллу:\", sorted_students)"
   ]
  }
 ],
 "metadata": {
  "kernelspec": {
   "display_name": "Python 3",
   "language": "python",
   "name": "python3"
  },
  "language_info": {
   "codemirror_mode": {
    "name": "ipython",
    "version": 3
   },
   "file_extension": ".py",
   "mimetype": "text/x-python",
   "name": "python",
   "nbconvert_exporter": "python",
   "pygments_lexer": "ipython3",
   "version": "3.12.4"
  }
 },
 "nbformat": 4,
 "nbformat_minor": 2
}
