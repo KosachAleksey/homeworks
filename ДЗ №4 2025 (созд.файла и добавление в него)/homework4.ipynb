{
 "cells": [
  {
   "cell_type": "markdown",
   "metadata": {},
   "source": [
    "Задача 1: Программу для управления\n",
    "файлами\n",
    "Напишите программу, которая\n",
    "предоставляет пользователю\n",
    "возможность:\n",
    "Записывать текст в файл.\n",
    "Читать текст из файла.\n",
    "Очищать содержимое файла.\n",
    "Выходить из программы.\n",
    "( вместо case, нужно использовать if.)\n",
    "Задача 1.1 С помощью вашей программы\n",
    "заполните файл вашими любимыми\n",
    "хобби, книги, телегамм каналы итд…"
   ]
  },
  {
   "cell_type": "code",
   "execution_count": 2,
   "metadata": {},
   "outputs": [
    {
     "name": "stdout",
     "output_type": "stream",
     "text": [
      "\n",
      "Меню:\n",
      "1. Записать текст в файл\n",
      "2. Прочитать текст из файла\n",
      "3. Очистить содержимое файла\n",
      "4. Выход\n",
      "Текст успешно добавлен в файл.\n",
      "\n",
      "Меню:\n",
      "1. Записать текст в файл\n",
      "2. Прочитать текст из файла\n",
      "3. Очистить содержимое файла\n",
      "4. Выход\n"
     ]
    }
   ],
   "source": [
    "def main():\n",
    "    while True:\n",
    "        print(\"\\nМеню:\")\n",
    "        print(\"1. Записать текст в файл\")\n",
    "        print(\"2. Прочитать текст из файла\")\n",
    "        print(\"3. Очистить содержимое файла\")\n",
    "        print(\"4. Выход\")\n",
    "\n",
    "        choice = input(\"Ваш выбор: \")\n",
    "\n",
    "        if choice == '1':\n",
    "            write_to_file()\n",
    "        elif choice == '2':\n",
    "            read_from_file()\n",
    "        elif choice == '3':\n",
    "            clear_file()\n",
    "        elif choice == '4':\n",
    "            break\n",
    "        else:\n",
    "            print(\"Неверный ввод. Попробуйте снова.\")\n",
    "\n",
    "def write_to_file():\n",
    "    filename = input(\"Введите имя файла: \")\n",
    "    text = input(\"Введите текст для записи: \")\n",
    "    with open(filename, 'a', encoding='utf-8') as file:\n",
    "        file.write(text + '\\n')\n",
    "    print(\"Текст успешно добавлен в файл.\")\n",
    "\n",
    "def read_from_file():\n",
    "    filename = input(\"Введите имя файла: \")\n",
    "    try:\n",
    "        with open(filename, 'r', encoding='utf-8') as file:\n",
    "            contents = file.read()\n",
    "        print(contents)\n",
    "    except FileNotFoundError:\n",
    "        print(f\"Файл {filename} не найден.\")\n",
    "\n",
    "def clear_file():\n",
    "    filename = input(\"Введите имя файла: \")\n",
    "    try:\n",
    "        with open(filename, 'w'):\n",
    "            pass\n",
    "        print(\"Файл очищен.\")\n",
    "    except FileNotFoundError:\n",
    "        print(f\"Файл {filename} не найден.\")\n",
    "\n",
    "if __name__ == \"__main__\":\n",
    "    main()"
   ]
  }
 ],
 "metadata": {
  "kernelspec": {
   "display_name": "Python 3",
   "language": "python",
   "name": "python3"
  },
  "language_info": {
   "codemirror_mode": {
    "name": "ipython",
    "version": 3
   },
   "file_extension": ".py",
   "mimetype": "text/x-python",
   "name": "python",
   "nbconvert_exporter": "python",
   "pygments_lexer": "ipython3",
   "version": "3.12.4"
  }
 },
 "nbformat": 4,
 "nbformat_minor": 2
}
