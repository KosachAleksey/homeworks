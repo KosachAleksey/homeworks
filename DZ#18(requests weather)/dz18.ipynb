{
 "cells": [
  {
   "cell_type": "markdown",
   "metadata": {},
   "source": [
    "Описание: Ваша задача – разработать программу на Python, которая\n",
    "отправляет запрос к API Яндекс.Погоды, получает прогноз погоды для\n",
    "заданной геолокации и анализирует данные, чтобы определить, будут ли в\n",
    "течение ближайших 7 дней дожди. Программа должна выводить информацию\n",
    "по каждому дню: \"Дождь ожидается\" или \"Дождь не ожидается\". ТребованияV\n",
    "y Запрос данныхn\n",
    "] Используйте модуль requests для отправки GET-запроса к API\n",
    "Яндекс.Погодыy\n",
    "] Примените предоставленный пример кода для получения\n",
    "JSON-данныхy\n",
    "] Обеспечьте корректную обработку ошибок (например, ошибки\n",
    "сети, неверный ответ от сервера)y\n",
    "?y Анализ данныхn\n",
    "] Изучите структуру JSON-ответа, чтобы понять, где содержатся\n",
    "данные о погоде для каждого из 7 днейy\n",
    "] Определите, какой параметр отвечает за наличие дождя\n",
    "(например, интенсивность осадков или описание погоды)y\n",
    "] Напишите функцию, которая анализирует данные и\n",
    "возвращает для каждого дня информацию о том, ожидается\n",
    "ли дождьy\n",
    "y Вывод результатаn\n",
    "] Программа должна выводить информацию о погоде для\n",
    "каждого из ближайших 7 дней в удобном для чтения формате\n",
    "(например, \"2025-03-15: Дождь ожидается\" или \"2025-03-16:\n",
    "Дождь не ожидается\")y\n",
    "6y Документация и стиль кодаn\n",
    "] Добавьте комментарии, поясняющие ключевые части кода,\n",
    "особенно обработку JSON-ответа и логику определения\n",
    "дождливых дней."
   ]
  },
  {
   "cell_type": "code",
   "execution_count": null,
   "metadata": {},
   "outputs": [],
   "source": [
    "import requests\n",
    "import json\n",
    "\n",
    "access_key = '42b6ced0-abbf-4089-8c78-326396a39403'\n",
    "\n",
    "headers = {\n",
    "    'X-Yandex-Weather-Key': access_key\n",
    "}\n",
    "\n",
    "lat = 43.585278\n",
    "lon = 39.703611\n",
    "coords = f\"lat={lat}&lon={lon}\"\n",
    "\n",
    "url = 'https://api.weather.yandex.ru/v2/forecast?' + coords\n",
    "\n",
    "print(url)\n",
    "\n",
    "\n",
    "response = requests.get(url, headers=headers)\n",
    "\n",
    "# Проверка успешности запроса\n",
    "if response.status_code == 200:\n",
    "    with open(\"data.json\", 'w', encoding=\"UTF-8\") as file:\n",
    "        json.dump(response.json(), file, indent=4)\n",
    "\n",
    "    print(\"Данные сохранены в data.json\\n\")\n",
    "\n",
    "    # Обработка данных с безопасной проверкой ключей\n",
    "    forecasts = response.json().get(\"forecasts\", [])\n",
    "    for day in forecasts:\n",
    "        date = day.get(\"date\", \"Неизвестная дата\")\n",
    "        rain = day.get(\"parts\", {}).get(\"day\", {}).get(\"condition\", \"Нет данных\")\n",
    "\n",
    "        print(f\"{date}: {'Дождь ожидается' if 'rain' in rain else 'Дождь не ожидается'}\")\n",
    "else:\n",
    "    print(f\"Ошибка запроса: {response.status_code}\")"
   ]
  }
 ],
 "metadata": {
  "kernelspec": {
   "display_name": "Python 3",
   "language": "python",
   "name": "python3"
  },
  "language_info": {
   "codemirror_mode": {
    "name": "ipython",
    "version": 3
   },
   "file_extension": ".py",
   "mimetype": "text/x-python",
   "name": "python",
   "nbconvert_exporter": "python",
   "pygments_lexer": "ipython3",
   "version": "3.13.2"
  }
 },
 "nbformat": 4,
 "nbformat_minor": 2
}
