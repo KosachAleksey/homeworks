{
 "cells": [
  {
   "cell_type": "markdown",
   "metadata": {},
   "source": []
  },
  {
   "cell_type": "code",
   "execution_count": 8,
   "metadata": {},
   "outputs": [
    {
     "name": "stdout",
     "output_type": "stream",
     "text": [
      "Список студентов и их оценки:\n",
      "['Маск:', 3, 2, 5, 4]\n",
      "['Иванов:', 4, 4, 4, 3]\n",
      "['Дуров:', 5, 3, 5, 5]\n",
      "Срeдний балл всей группы равен: 3.92\n",
      "Студенты с оценками выше среднего: Дуров:\n",
      "Студенты с оценками ниже среднего: Маск:, Иванов:\n",
      "Студент с наивысшей оценкой: Дуров: (средний балл: 4.50)\n",
      "Студент с наименьшей оценкой: Маск: (средний балл: 3.50)\n"
     ]
    }
   ],
   "source": [
    "studScores = [['Маск:',3,2,5,4], ['Иванов:',4,4,4,3], ['Дуров:',5,3,5,5]]\n",
    "\n",
    "def list_student(): #Принимает список студентов и их соответствующие оценки\n",
    "   print(\"Список студентов и их оценки:\")\n",
    "   for student in studScores:\n",
    "    print(student)\n",
    "list_student()  \n",
    "\n",
    "def average_score_group(): #Вычисляет средний балл для всей группы\n",
    "    scores = []\n",
    "    for student in studScores:\n",
    "       scores.extend(student[1:])\n",
    "       sum_scores = sum(scores)\n",
    "       averagescore = sum_scores / len(scores)\n",
    "    return averagescore\n",
    "    #print(scores)\n",
    "    #print(len(scores))\n",
    "    #print(sum_scores)\n",
    "    #print(f\"Срeдний балл всей группы равен: {averagescore}\") \n",
    "\n",
    "\n",
    "print(f\"Срeдний балл всей группы равен: {average_score_group():.2f}\")\n",
    "\n",
    "averagescore2 = average_score_group()\n",
    "\n",
    "def get_students_above_below_average(studScores, averagescore2):#Определяет студентов с оценками выше и ниже среднего.\"\"\"\n",
    "    above_average = []\n",
    "    below_average = []\n",
    "    \n",
    "    for student in studScores:\n",
    "        name = student[0]\n",
    "        scores = student[1:]\n",
    "        student_average = sum(scores) / len(scores)\n",
    "        \n",
    "        if student_average > averagescore2:\n",
    "            above_average.append(name)\n",
    "        else:\n",
    "            below_average.append(name)\n",
    "    \n",
    "    return above_average, below_average\n",
    "above_average, below_average = get_students_above_below_average(studScores, averagescore2)\n",
    "\n",
    "print(f\"Студенты с оценками выше среднего: {', '.join(above_average) if above_average else 'нет'}\")\n",
    "print(f\"Студенты с оценками ниже среднего: {', '.join(below_average) if below_average else 'нет'}\")\n",
    "\n",
    "\n",
    "def find_highest_lowest_scorer(studScores): #Находит студента с наивысшей и наименьшей оценкой.\n",
    "    highest_scorer = None\n",
    "    lowest_scorer = None\n",
    "    highest_score = float('-inf')\n",
    "    lowest_score = float('inf')\n",
    "    \n",
    "    for student in studScores:\n",
    "        name = student[0]\n",
    "        scores = student[1:]\n",
    "        student_average = sum(scores) / len(scores)\n",
    "        \n",
    "        if student_average > highest_score:\n",
    "            highest_score = student_average\n",
    "            highest_scorer = name\n",
    "        \n",
    "        if student_average < lowest_score:\n",
    "            lowest_score = student_average\n",
    "            lowest_scorer = name\n",
    "            \n",
    "    return highest_scorer, highest_score, lowest_scorer, lowest_score\n",
    "\n",
    "highest_scorer, highest_score, lowest_scorer, lowest_score = find_highest_lowest_scorer(studScores)\n",
    "print(f\"Студент с наивысшей оценкой: {highest_scorer} (средний балл: {highest_score:.2f})\")\n",
    "print(f\"Студент с наименьшей оценкой: {lowest_scorer} (средний балл: {lowest_score:.2f})\")\n"
   ]
  },
  {
   "cell_type": "code",
   "execution_count": 14,
   "metadata": {},
   "outputs": [
    {
     "name": "stdout",
     "output_type": "stream",
     "text": [
      "14\n",
      "Vova\n",
      "25\n",
      "Kostja\n",
      "36\n",
      "Slava\n"
     ]
    }
   ],
   "source": [
    "list = [['Vova', 5, 4, 5], ['Kostja', 5, 3, 3], ['Slava', 4, 4, 3]]\n",
    "\n",
    "def search():\n",
    "    new_list = []\n",
    "    for item in list:\n",
    "        new_list.extend(item[1:])\n",
    "        name = item[0]\n",
    "        sum1 = sum(new_list)\n",
    "        print (sum1)\n",
    "        print (name)\n",
    " \n",
    "search()\n"
   ]
  },
  {
   "cell_type": "code",
   "execution_count": 29,
   "metadata": {},
   "outputs": [
    {
     "name": "stdout",
     "output_type": "stream",
     "text": [
      "1\n",
      "2\n",
      "4\n",
      "8\n",
      "16\n",
      "32\n",
      "64\n",
      "128\n",
      "256\n"
     ]
    }
   ],
   "source": [
    "def powersOf2(n):\n",
    "    pow = 1\n",
    "    for i in range(n):\n",
    "        yield pow\n",
    "        pow *=2\n",
    "\n",
    "for v in powersOf2(9):\n",
    "    print( v, end='\\n')\n",
    "\n"
   ]
  },
  {
   "cell_type": "markdown",
   "metadata": {},
   "source": [
    "Пример кода для создания последовательности чисел Фибоначчи: "
   ]
  },
  {
   "cell_type": "code",
   "execution_count": 14,
   "metadata": {},
   "outputs": [
    {
     "name": "stdout",
     "output_type": "stream",
     "text": [
      "0\n",
      "0\n",
      "0\n",
      "0\n",
      "0\n",
      "0\n",
      "0\n",
      "0\n",
      "0\n",
      "0\n"
     ]
    }
   ],
   "source": [
    "def fibonacci(n):\n",
    "    a, b = 0, 1\n",
    "    for i in range(n):\n",
    "        yield a\n",
    "    a, b = b, a + b\n",
    "for num in fibonacci(10):\n",
    "    print(num)"
   ]
  },
  {
   "cell_type": "code",
   "execution_count": 22,
   "metadata": {},
   "outputs": [
    {
     "name": "stdout",
     "output_type": "stream",
     "text": [
      "[1, 2, 4, 8, 16]\n"
     ]
    }
   ],
   "source": [
    "def powersOf2(n): \n",
    " pow = 1 \n",
    " for i in range(n): \n",
    "    yield pow \n",
    "    pow *= 2 \n",
    "t = [x for x in powersOf2(5)] \n",
    "print(t)"
   ]
  },
  {
   "cell_type": "code",
   "execution_count": 32,
   "metadata": {},
   "outputs": [
    {
     "name": "stdout",
     "output_type": "stream",
     "text": [
      "1\n",
      "2\n",
      "4\n",
      "8\n"
     ]
    }
   ],
   "source": [
    "def powersOf2(n): \n",
    " pow = 1 \n",
    " for i in range(n): \n",
    "    yield pow \n",
    "    pow *= 2 \n",
    "for i in range(20): \n",
    "   if i in powersOf2(4): \n",
    "     print(i)"
   ]
  },
  {
   "cell_type": "markdown",
   "metadata": {},
   "source": [
    "рассмотрим генератор чисел Фибо\u0002наччи и убедимся, что он выглядит намного лучше, чем \n",
    "объектная версия, основанная на реализации протокола \n",
    "прямого итератора"
   ]
  },
  {
   "cell_type": "code",
   "execution_count": 44,
   "metadata": {},
   "outputs": [
    {
     "name": "stdout",
     "output_type": "stream",
     "text": [
      "[1, 1, 2, 3, 5, 8, 13, 21, 34, 55]\n"
     ]
    }
   ],
   "source": [
    "\n",
    "def Fi(n): \n",
    "    p = pp = 1 \n",
    "    for i in range(n): \n",
    "        if i in [0, 1]: \n",
    "            yield 1 \n",
    "        else: \n",
    "            n = p + pp \n",
    "            pp, p = p, n \n",
    "            yield n \n",
    "fis = list(Fi(10)) \n",
    "print(fis)"
   ]
  },
  {
   "cell_type": "code",
   "execution_count": 59,
   "metadata": {},
   "outputs": [
    {
     "name": "stdout",
     "output_type": "stream",
     "text": [
      "<generator object get_list at 0x00000244BCB804A0>\n",
      "[5.5, 6.0, 6.5, 7.0, 7.5, 8.0, 8.5, 9.0, 9.5]\n",
      "list[0]\n"
     ]
    }
   ],
   "source": [
    "def get_list():\n",
    "    for x in range(1, 10):\n",
    "        a = range(x, 11)\n",
    "        yield sum(a) / len(a)\n",
    "\n",
    "a = get_list()\n",
    "\n",
    "print(a)\n",
    "print(list(a))\n",
    "\n",
    "num_1 = list[0]\n",
    "print(list[0])"
   ]
  },
  {
   "cell_type": "code",
   "execution_count": 90,
   "metadata": {},
   "outputs": [
    {
     "name": "stdout",
     "output_type": "stream",
     "text": [
      "[3, 45, -1000, -5, 88, 32]\n",
      "6\n",
      "3\n",
      "[3, 45, -1000, -5, 88, 32, -1000, -1000]\n"
     ]
    },
    {
     "data": {
      "text/plain": [
       "[88, 45, 32, 3, -5, -1000, -1000, -1000]"
      ]
     },
     "execution_count": 90,
     "metadata": {},
     "output_type": "execute_result"
    }
   ],
   "source": [
    "a = [1, 3, 45, -5, 88, 32, True, 6]\n",
    "a.append(100)\n",
    "a.insert(3, -1000)\n",
    "a.remove(True)\n",
    "a\n",
    "a.remove(True)\n",
    "a\n",
    "a.pop()\n",
    "a\n",
    "c = a.pop()\n",
    "print(a)\n",
    "print(c)\n",
    "c = a[:]\n",
    "c.count\n",
    "c.append(-1000)\n",
    "c\n",
    "c.append(-1000)\n",
    "c.count(-1000)\n",
    "b = c.count(-1000)\n",
    "print(b)\n",
    "print(c)\n",
    "c.index(-1000, 0)\n",
    "c.sort(reverse=True)\n"
   ]
  }
 ],
 "metadata": {
  "kernelspec": {
   "display_name": "Python 3",
   "language": "python",
   "name": "python3"
  },
  "language_info": {
   "codemirror_mode": {
    "name": "ipython",
    "version": 3
   },
   "file_extension": ".py",
   "mimetype": "text/x-python",
   "name": "python",
   "nbconvert_exporter": "python",
   "pygments_lexer": "ipython3",
   "version": "3.12.4"
  }
 },
 "nbformat": 4,
 "nbformat_minor": 2
}
