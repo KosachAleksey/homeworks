{
 "cells": [
  {
   "cell_type": "markdown",
   "metadata": {},
   "source": [
    "описание: В этом задании вам нужно создать декоратор, который позволяет\n",
    "передавать callback-функцию для обработки элементов списка. Декоратор\n",
    "должен применяться к функции, принимающей список, и вызывать\n",
    "переданный callback для каждого элемента списка перед выполнением\n",
    "основной логики функции.\n",
    "Требования\n",
    "ª Создайте декоратор apply_callback, который принимает аргумент — callbackфункцию\n",
    "| Декоратор должен вызывать переданный callback для каждого элемента\n",
    "списка, переданного в основную функцию\n",
    "y После обработки элементов списка с помощью callback, основная функция\n",
    "должна продолжить выполнение с измененным списком\n",
    "u Напишите несколько тестов для проверки работы декоратора с разными\n",
    "callback-функциями."
   ]
  },
  {
   "cell_type": "code",
   "execution_count": 4,
   "metadata": {},
   "outputs": [
    {
     "name": "stdout",
     "output_type": "stream",
     "text": [
      "20\n",
      "30\n"
     ]
    }
   ],
   "source": [
    "def apply_callback(callback):\n",
    "\n",
    "    def decorator(func):\n",
    "        def wrapper(lst):\n",
    "            processed_lst = [callback(item) for item in lst]\n",
    "            return func(processed_lst)\n",
    "        return wrapper\n",
    "    return decorator\n",
    "\n",
    "def multiply_by_two(x):\n",
    "    return x * 2\n",
    "\n",
    "\n",
    "def square(x):\n",
    "    return x ** 2\n",
    "\n",
    "@apply_callback(multiply_by_two)\n",
    "def process_list(lst):\n",
    "    return sum(lst)\n",
    "\n",
    "if __name__ == \"__main__\":\n",
    "    print(process_list([1, 2, 3, 4]))  \n",
    "\n",
    "    @apply_callback(square)\n",
    "    def sum_list(lst):\n",
    "        return sum(lst)\n",
    "\n",
    "    print(sum_list([1, 2, 3, 4])) "
   ]
  }
 ],
 "metadata": {
  "kernelspec": {
   "display_name": "Python 3",
   "language": "python",
   "name": "python3"
  },
  "language_info": {
   "codemirror_mode": {
    "name": "ipython",
    "version": 3
   },
   "file_extension": ".py",
   "mimetype": "text/x-python",
   "name": "python",
   "nbconvert_exporter": "python",
   "pygments_lexer": "ipython3",
   "version": "3.12.4"
  }
 },
 "nbformat": 4,
 "nbformat_minor": 2
}
