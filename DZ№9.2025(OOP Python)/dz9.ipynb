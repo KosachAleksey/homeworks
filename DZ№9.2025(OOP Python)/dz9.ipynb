{
 "cells": [
  {
   "cell_type": "markdown",
   "metadata": {},
   "source": []
  },
  {
   "cell_type": "code",
   "execution_count": 2,
   "metadata": {},
   "outputs": [
    {
     "name": "stdout",
     "output_type": "stream",
     "text": [
      "Иван кормит Лев (Млекопитающее)\n",
      "Алексей наблюдает за Попугай (Птица)\n",
      "Сергей кормит Обезьяна (Млекопитающее)\n"
     ]
    }
   ],
   "source": [
    "class Animal:\n",
    "    \n",
    "    def __init__(self, name, species, age):\n",
    "        self.name = name\n",
    "        self.species = species\n",
    "        self.__age = age  # Приватное поле\n",
    "\n",
    "    def get_age(self):\n",
    "        return self.__age\n",
    "    \n",
    "    def set_age(self, age):\n",
    "        if age >= 0:\n",
    "            self.__age = age\n",
    "    \n",
    "    def make_sound(self):\n",
    "        pass\n",
    "\n",
    "class Mammal(Animal):\n",
    "\n",
    "    def __init__(self, name, species, age, fur_color):\n",
    "        super().__init__(name, species, age)\n",
    "        self.fur_color = fur_color\n",
    "\n",
    "    def make_sound(self):\n",
    "        return \"Pёв\"\n",
    "\n",
    "class Bird(Animal):\n",
    "   \n",
    "    def __init__(self, name, species, age, wing_span):\n",
    "        super().__init__(name, species, age)\n",
    "        self.wing_span = wing_span\n",
    "\n",
    "    def make_sound(self):\n",
    "        return \"Чириканье\"\n",
    "\n",
    "class ZooEmployee:\n",
    "\n",
    "    def __init__(self, name, position):\n",
    "        self.name = name\n",
    "        self.position = position\n",
    "    \n",
    "    def feed_animal(self, animal):\n",
    "        return f\"{self.name} кормит {animal.name} ({animal.species})\"\n",
    "\n",
    "class Visitor:\n",
    "\n",
    "    def __init__(self, name, ticket_number):\n",
    "        self.name = name\n",
    "        self.ticket_number = ticket_number\n",
    "    \n",
    "    def watch_animal(self, animal):\n",
    "        return f\"{self.name} наблюдает за {animal.name} ({animal.species})\"\n",
    "\n",
    "lion = Mammal(\"Лев\", \"Млекопитающее\", 5, \"Цвет саванны\")\n",
    "parrot = Bird(\"Попугай\", \"Птица\", 2, \"25 см\")\n",
    "monkey = Mammal(\"Обезьяна\", \"Млекопитающее\", 4, \"Коричневый\")\n",
    "\n",
    "keeper1 = ZooEmployee(\"Иван\", \"Смотритель\")\n",
    "keeper2 = ZooEmployee(\"Анна\", \"Ветеринар\")\n",
    "keeper3 = ZooEmployee(\"Сергей\", \"Дрессировщик\")\n",
    "\n",
    "visitor1 = Visitor(\"Алексей\", 101)\n",
    "visitor2 = Visitor(\"Мария\", 102)\n",
    "\n",
    "print(keeper1.feed_animal(lion))\n",
    "print(visitor1.watch_animal(parrot))\n",
    "print(keeper3.feed_animal(monkey))"
   ]
  }
 ],
 "metadata": {
  "kernelspec": {
   "display_name": "Python 3",
   "language": "python",
   "name": "python3"
  },
  "language_info": {
   "codemirror_mode": {
    "name": "ipython",
    "version": 3
   },
   "file_extension": ".py",
   "mimetype": "text/x-python",
   "name": "python",
   "nbconvert_exporter": "python",
   "pygments_lexer": "ipython3",
   "version": "3.12.4"
  }
 },
 "nbformat": 4,
 "nbformat_minor": 2
}
