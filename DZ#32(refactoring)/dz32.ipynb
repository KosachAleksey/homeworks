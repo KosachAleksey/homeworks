{
 "cells": [
  {
   "cell_type": "markdown",
   "id": "ffdd3ab8",
   "metadata": {},
   "source": [
    "Описание: В рамках данного задания вам предстоит изучить предоставленные\n",
    "источники, которые охватывают темы рефакторинга и паттернов\n",
    "проектирования. После ознакомления с материалами необходимо выполнить\n",
    "практическую работу, направленную на применение полученных знаний.\n",
    "\n",
    "Требованияw\n",
    "Y~ Изучение теоретического материала: Ознакомьтесь с указанными ниже\n",
    "статьями, которые содержат подробное описание понятий рефакторинга,\n",
    "запахов кода, техник рефакторинга и паттернов проектированияb\n",
    "P Рефакторингb\n",
    "L\n",
    "L\n",
    "L\n",
    "L\n",
    "P Паттерны проектированияb\n",
    "L\n",
    "L\n",
    "J~ Практическая работаb\n",
    "P Часть 1: Рефакторинг существующего кодf\n",
    "P Выберите небольшой фрагмент кода из вашего предыдущего\n",
    "проекта или предложенный преподавателем~\n",
    "P Проанализируйте код на наличие запахов и определите области,\n",
    "требующие улучшения~\n",
    "P Примените соответствующие техники рефакторинга для улучшения\n",
    "читаемости, производительности и поддерживаемости кода~\n",
    "P Сравните до и после изменения: какие улучшения были достигнутыB\n",
    "P Часть 2: Применение паттернов проектировани]\n",
    "P Изучите один из порождающих паттернов проектирования\n",
    "(например, Абстрактная фабрика, Строитель, Одиночка)~\n",
    "P Реализуйте выбранный паттерн в небольшом проекте на Python~\n",
    "P Объясните выбор паттерна и продемонстрируйте его применение на\n",
    "практическом примере~\n",
    "[~ Отчёт по заданиюb\n",
    "P Подготовьте отчёт, включающийb\n",
    "P Описание выбранного фрагмента кода до и после рефакторинга~\n",
    "P Объяснение выявленных запахов кода и применённых техник\n",
    "рефакторинга~\n",
    "P Описание выбранного паттерна проектирования, его цели и области\n",
    "применения~\n",
    "P Код реализации паттерна с комментариями~\n",
    "P Результаты тестирования и оценки производительности (если\n",
    "применимо)."
   ]
  },
  {
   "cell_type": "markdown",
   "id": "c8ba7b1a",
   "metadata": {},
   "source": [
    "Часть 1: Рефакторинг существующего кода"
   ]
  },
  {
   "cell_type": "markdown",
   "id": "0ce24afc",
   "metadata": {},
   "source": [
    "Примерный исходный код (до рефакторинга)"
   ]
  },
  {
   "cell_type": "code",
   "execution_count": null,
   "id": "277dd70e",
   "metadata": {},
   "outputs": [],
   "source": [
    "def process_order(order):\n",
    "    if order[\"status\"] == \"pending\":\n",
    "        if order[\"total\"] > 1000:\n",
    "            order[\"discount\"] = order[\"total\"] * 0.1\n",
    "            order[\"status\"] = \"processed\"\n",
    "        else:\n",
    "            order[\"discount\"] = 0\n",
    "            order[\"status\"] = \"processed\"\n",
    "    elif order[\"status\"] == \"processed\":\n",
    "        print(\"Order already processed\")\n",
    "    else:\n",
    "        print(\"Invalid order status\")\n",
    "    return order"
   ]
  },
  {
   "cell_type": "markdown",
   "id": "f73c026a",
   "metadata": {},
   "source": [
    "Запахи этого кода:\n",
    "if-else внутри if – нагромождение.\n",
    "\n",
    "числа (1000, 0.1) – непонятно, что они означают.\n",
    "\n",
    "Жестко установлееные статусы (\"pending\", \"processed\") – могут измениться.\n",
    "\n",
    "Прямая модификация словаря order – может привести к ошибкам."
   ]
  },
  {
   "cell_type": "markdown",
   "id": "b559176d",
   "metadata": {},
   "source": [
    "Выполнил рефакторинг кода"
   ]
  },
  {
   "cell_type": "code",
   "execution_count": null,
   "id": "669fd083",
   "metadata": {},
   "outputs": [],
   "source": [
    "MIN_ORDER_FOR_DISCOUNT = 1000\n",
    "DISCOUNT_RATE = 0.1\n",
    "\n",
    "class OrderStatus:\n",
    "    PENDING = \"pending\"\n",
    "    PROCESSED = \"processed\"\n",
    "\n",
    "def apply_discount(total):\n",
    "    return total * DISCOUNT_RATE if total > MIN_ORDER_FOR_DISCOUNT else 0\n",
    "\n",
    "def process_order(order):\n",
    "    if order[\"status\"] == OrderStatus.PENDING:\n",
    "        order[\"discount\"] = apply_discount(order[\"total\"])\n",
    "        order[\"status\"] = OrderStatus.PROCESSED\n",
    "    elif order[\"status\"] == OrderStatus.PROCESSED:\n",
    "        print(\"Order already processed\")\n",
    "    else:\n",
    "        print(\"Invalid order status\")\n",
    "    return order"
   ]
  },
  {
   "cell_type": "markdown",
   "id": "3945ca07",
   "metadata": {},
   "source": [
    "Итоги рефакторинга:\n",
    "Уменьшена вложенность – логика скидки вынесена в отдельную функцию.\n",
    "Константы вместо непонятных чисел – код стал понятнее.\n",
    "Статусы заказов в классе OrderStatus – легче поддерживать.\n",
    "Более чистая логика обработки заказа."
   ]
  },
  {
   "cell_type": "markdown",
   "id": "e221fe22",
   "metadata": {},
   "source": [
    "Часть 2: Применение паттерна проектирования Строитель"
   ]
  },
  {
   "cell_type": "markdown",
   "id": "364696c3",
   "metadata": {},
   "source": [
    "Предположим, у нас есть такой объект User с множеством параметров (имя, email, возраст, адрес и ...)"
   ]
  },
  {
   "cell_type": "code",
   "execution_count": null,
   "id": "02bc6126",
   "metadata": {},
   "outputs": [],
   "source": [
    "user = User(\"John\", \"john@example.com\", 30, \"123 Main St\", \"Premium\", True)"
   ]
  },
  {
   "cell_type": "markdown",
   "id": "a1ae5f44",
   "metadata": {},
   "source": [
    "Примененяю паттерн проектирования Строитель"
   ]
  },
  {
   "cell_type": "code",
   "execution_count": null,
   "id": "193ae319",
   "metadata": {},
   "outputs": [],
   "source": [
    "class User:\n",
    "    def __init__(self):\n",
    "        self.name = None\n",
    "        self.email = None\n",
    "        self.age = None\n",
    "        self.address = None\n",
    "        self.membership = \"Basic\"\n",
    "        self.is_active = False\n",
    "\n",
    "    def __str__(self):\n",
    "        return f\"User(name={self.name}, email={self.email}, age={self.age})\"\n",
    "\n",
    "class UserBuilder:\n",
    "    def __init__(self):\n",
    "        self.user = User()\n",
    "\n",
    "    def set_name(self, name):\n",
    "        self.user.name = name\n",
    "        return self\n",
    "\n",
    "    def set_email(self, email):\n",
    "        self.user.email = email\n",
    "        return self\n",
    "\n",
    "    def set_age(self, age):\n",
    "        self.user.age = age\n",
    "        return self\n",
    "\n",
    "    def build(self):\n",
    "        return self.user\n",
    "\n",
    "builder = UserBuilder()\n",
    "user = (\n",
    "    builder.set_name(\"John\")\n",
    "           .set_email(\"john@example.com\")\n",
    "           .set_age(30)\n",
    "           .build()\n",
    ")\n",
    "print(user)  # результпт кода: User(name=John, email=john@example.com, age=30)"
   ]
  },
  {
   "cell_type": "markdown",
   "id": "41936fb3",
   "metadata": {},
   "source": [
    "Применение Строителя улучшило:\n",
    "Гибкость – можно задавать только необходимые параметры.\n",
    "Читаемость – сейчас понятнее, чем длинный конструктор.\n",
    "Расширяемость – легко добавить новое."
   ]
  },
  {
   "cell_type": "markdown",
   "id": "132ab3b7",
   "metadata": {},
   "source": [
    "ОТЧЕТ "
   ]
  },
  {
   "cell_type": "markdown",
   "id": "12cde903",
   "metadata": {},
   "source": [
    "1) Относительно части 1 Рефакторинг\n",
    "Было: Нагромождение if-else, непонятные числа, общая непонятность кода.\n",
    "\n",
    "Стало: Чистые функции, константы, улучшенная читаемость.\n",
    "\n",
    "2. Применение паттерна Строитель\n",
    "Цель: Упростить создание сложных объектов.\n",
    "\n",
    "Когда лучше применить паттерна Строитель: Когда объект имеет много параметров или требует поэтапного конструирования.\n",
    "\n",
    "Результат: Более гибкий и читаемый код.\n",
    "\n",
    "Выводы\n",
    "Рефакторинг и паттерны проектирования помогают:\n",
    "Улучшить читаемость кода\n",
    "Снизить вероятность ошибок\n",
    "Упростить поддержку и расширение"
   ]
  }
 ],
 "metadata": {
  "language_info": {
   "name": "python"
  }
 },
 "nbformat": 4,
 "nbformat_minor": 5
}
