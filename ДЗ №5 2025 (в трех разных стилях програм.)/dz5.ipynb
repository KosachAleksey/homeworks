{
 "cells": [
  {
   "cell_type": "markdown",
   "metadata": {},
   "source": [
    "Описание: Реализуйте программу, которая вычисляет сумму всех четных\n",
    "чисел в списке. Напишите код для решения этой задачи в трех разных\n",
    "стилях программирования.\n",
    "\n",
    "Требования\n",
    "Z: Императивный стиль – используйте переменные и циклы для\n",
    "последовательного обхода списка:\n",
    ": Процедурный стиль – разделите логику на функции, каждая из\n",
    "которых выполняет отдельную подзадачу (например, фильтрация\n",
    "четных чисел, вычисление суммы):\n",
    ": Функциональный стиль – используйте функции высшего порядка\n",
    "(map, filter, reduce и другие) и неизменяемые данные."
   ]
  },
  {
   "cell_type": "code",
   "execution_count": 17,
   "metadata": {},
   "outputs": [
    {
     "name": "stdout",
     "output_type": "stream",
     "text": [
      "При императивном стиле программирования вычисления сумма четных чисел списка [1, 2, 3, 4, 5, 6, 7, 8, 9, 10] равна 30 \n"
     ]
    }
   ],
   "source": [
    "#Императивный стиль\n",
    "def sum_even_numbers_imperative(numbers):\n",
    "    result = 0\n",
    "    for num in numbers:\n",
    "        if num % 2 == 0:\n",
    "            result += num\n",
    "    return result\n",
    "numbers = [1, 2, 3, 4, 5, 6, 7, 8, 9, 10]\n",
    "total = sum_even_numbers_imperative(numbers)\n",
    "print(f\"При императивном стиле программирования вычисления сумма четных чисел списка {numbers} равна {total} \")\n"
   ]
  },
  {
   "cell_type": "code",
   "execution_count": 18,
   "metadata": {},
   "outputs": [
    {
     "name": "stdout",
     "output_type": "stream",
     "text": [
      "При процедурном стиле программирования вычисления сумма четных чисел списка [1, 2, 3, 4, 5, 6, 7, 8, 9, 10] равна 30 \n"
     ]
    }
   ],
   "source": [
    "#Процедурный стиль\n",
    "def  even(num):\n",
    "    return num % 2 ==0\n",
    "\n",
    "def sum_evens(numbers):\n",
    "    evens = []\n",
    "    for num in numbers:\n",
    "        if even(num):\n",
    "            evens.append(num)\n",
    "    return sum(evens)\n",
    "numbers = [1, 2, 3, 4, 5, 6, 7, 8, 9, 10]\n",
    "result = sum_evens(numbers)\n",
    "print(f\"При процедурном стиле программирования вычисления сумма четных чисел списка {numbers} равна {result} \")"
   ]
  },
  {
   "cell_type": "code",
   "execution_count": 16,
   "metadata": {},
   "outputs": [
    {
     "name": "stdout",
     "output_type": "stream",
     "text": [
      "При функциональном стиле программирования сумма четных чисел списка [1, 2, 3, 4, 5, 6, 7, 8, 9, 10] раына 30\n"
     ]
    }
   ],
   "source": [
    "#Функциональный стиль\n",
    "def sum_even_functi(numbers):\n",
    "    even_numbers = list(filter(lambda num: num % 2 == 0, numbers))\n",
    "    return sum(even_numbers)\n",
    "numbers = [1, 2, 3, 4, 5, 6, 7, 8, 9, 10]\n",
    "result_sum_even = sum_even_functi(numbers)\n",
    "print(f\"При функциональном стиле программирования сумма четных чисел списка {numbers} раына {result_sum_even}\")"
   ]
  }
 ],
 "metadata": {
  "kernelspec": {
   "display_name": "Python 3",
   "language": "python",
   "name": "python3"
  },
  "language_info": {
   "codemirror_mode": {
    "name": "ipython",
    "version": 3
   },
   "file_extension": ".py",
   "mimetype": "text/x-python",
   "name": "python",
   "nbconvert_exporter": "python",
   "pygments_lexer": "ipython3",
   "version": "3.12.4"
  }
 },
 "nbformat": 4,
 "nbformat_minor": 2
}
