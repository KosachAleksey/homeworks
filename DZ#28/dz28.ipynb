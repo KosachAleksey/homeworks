{
 "cells": [
  {
   "cell_type": "markdown",
   "metadata": {},
   "source": [
    "Задание 1: Паттерн \"Мост\"\n",
    "\n",
    "Цель: Разделить абстракцию от реализации, чтобы можно было \n",
    "изменять абстракции и реализации независимо друг от друга.\n",
    "\n",
    "Требованияe\n",
    "/ Создайте абстракцию Notification (уведомление), которая \n",
    "определяет общие операции для всех типов уведомлений)\n",
    "/ Реализуйте два типа реализации уведомлений: EmailNotification, \n",
    "SMSNotification, которые будут реализовывать метод отправки \n",
    "уведомлений через соответствующие каналы)\n",
    "/ Паттерн \"Мост\" должен быть использован для создания \n",
    "различных типов уведомлений через разные каналы, где канал \n",
    "можно менять динамически.\n",
    "\n",
    "\n",
    "Задание 2: Паттерн \"Адаптер\"\n",
    "\n",
    "Цель: Преобразовать интерфейс одного класса в интерфейс, \n",
    "который ожидает другой класс.\n",
    "\n",
    "Требованияe\n",
    "/ У вас есть старый класс PushNotification, который не \n",
    "поддерживает интерфейс уведомлений)\n",
    "/ Создайте адаптер, который позволит использовать \n",
    "PushNotification в системе уведомлений.\n",
    "\n",
    "\n",
    "Задание 3: Паттерн \"Декоратор\"\n",
    "\n",
    "Цель: Добавить новое поведение объектам динамически.\n",
    "\n",
    "Требованияe\n",
    "/ Создайте декоратор UrgentNotification, который будет добавлять \n",
    "к уведомлению метку \"Срочное\")\n",
    "/ Декоратор должен оборачивать любые уведомления и выводить \n",
    "дополнительную информацию о срочности"
   ]
  },
  {
   "cell_type": "code",
   "execution_count": 6,
   "metadata": {},
   "outputs": [
    {
     "name": "stdout",
     "output_type": "stream",
     "text": [
      "[email] sending^ Система перегружена\n",
      "[sms] sending: Низкий заряд батареи\n"
     ]
    }
   ],
   "source": [
    "from abc import ABC, abstractmethod\n",
    "\n",
    "#МОСТ\n",
    "#Создали интерфейс\n",
    "class NotificationSender(ABC): #Это интерфейс для всех каналов отправки\n",
    "    @abstractmethod\n",
    "    def send(self): ...\n",
    "\n",
    "\n",
    "# Конкретные реализации\n",
    "class EmailNotification(NotificationSender):\n",
    "    def send(self, message):\n",
    "        return f\"[email] sending:: {message}\"\n",
    "\n",
    "class SMSNotification(NotificationSender):\n",
    "    def send(self, message):\n",
    "        return f\"[sms] sending: {message}\"\n",
    "\n",
    "\n",
    "#Абстракция\n",
    "class Notification(ABC):\n",
    "    def __init__(self, sender):\n",
    "        self.sender = sender\n",
    "\n",
    "    def notify(self, message: str): ...\n",
    "\n",
    "class AlerNotification(Notification):\n",
    "    def notify(self, message: str):\n",
    "        return self.sender.send(message)\n",
    "\n",
    "email = EmailNotification()\n",
    "sms = SMSNotification()\n",
    "\n",
    "alert = AlerNotification(email)\n",
    "print(alert.notify(\"Система перегружена\"))\n",
    "\n",
    "alert.sender = sms\n",
    "print(alert.notify(\"Низкий заряд батареи\"))\n",
    "\n",
    "\n",
    "\n",
    "\n",
    "\n",
    "\n",
    "\n",
    "\n",
    "    "
   ]
  },
  {
   "cell_type": "markdown",
   "metadata": {},
   "source": [
    "Задание 2: Паттерн \"Адаптер\"\n",
    "\n",
    "Цель: Преобразовать интерфейс одного класса в интерфейс, \n",
    "который ожидает другой класс.\n",
    "\n",
    "Требованияe\n",
    "/ У вас есть старый класс PushNotification, который не \n",
    "поддерживает интерфейс уведомлений)\n",
    "/ Создайте адаптер, который позволит использовать \n",
    "PushNotification в системе уведомлений.\n",
    "\n"
   ]
  },
  {
   "cell_type": "code",
   "execution_count": 8,
   "metadata": {},
   "outputs": [
    {
     "name": "stdout",
     "output_type": "stream",
     "text": [
      "[push] sending: Новый способ сообщения!\n"
     ]
    }
   ],
   "source": [
    "from abc import ABC, abstractmethod\n",
    "\n",
    "#МОСТ\n",
    "#Создали интерфейс\n",
    "class NotificationSender(ABC): #Это интерфейс для всех каналов отправки\n",
    "    @abstractmethod\n",
    "    def send(self): ...\n",
    "\n",
    "\n",
    "# Конкретные реализации\n",
    "class EmailNotification(NotificationSender):\n",
    "    def send(self, message):\n",
    "        return f\"[email] sending:: {message}\"\n",
    "\n",
    "class SMSNotification(NotificationSender):\n",
    "    def send(self, message):\n",
    "        return f\"[sms] sending: {message}\"\n",
    "\n",
    "\n",
    "#Абстракция\n",
    "class Notification(ABC):\n",
    "    def __init__(self, sender):\n",
    "        self.sender = sender\n",
    "\n",
    "    def notify(self, message: str): ...\n",
    "\n",
    "class AlerNotification(Notification):\n",
    "    def notify(self, message: str):\n",
    "        return self.sender.send(message)\n",
    "\n",
    "email = EmailNotification()\n",
    "sms = SMSNotification()\n",
    "\n",
    "alert = AlerNotification(email)\n",
    "print(alert.notify(\"Система перегружена\"))\n",
    "\n",
    "alert.sender = sms\n",
    "print(alert.notify(\"Низкий заряд батареи\"))\n",
    "class PushNotification:\n",
    "    def push(self, content: str):\n",
    "        return f\"[push] sending: {content}\"\n",
    "\n",
    "#--------------------------------------------\n",
    "#Задание 2: Паттерн \"Адаптер\"\n",
    "\n",
    "class PushNotificationAdapter(NotificationSender):\n",
    "    def __init__(self, adaptee: PushNotification) -> None:\n",
    "        self.adaptee = adaptee\n",
    "\n",
    "    def send(self, message) -> str:\n",
    "        return self.adaptee.push(message)\n",
    "    \n",
    "push = PushNotification()\n",
    "adapter = PushNotificationAdapter(push)\n",
    "\n",
    "alert = AlerNotification(adapter)\n",
    "print(alert.notify(\"Новый способ сообщения!\"))"
   ]
  },
  {
   "cell_type": "markdown",
   "metadata": {},
   "source": [
    "Задание 3: Паттерн \"Декоратор\"\n",
    "\n",
    "Цель: Добавить новое поведение объектам динамически.\n",
    "\n",
    "Требованияe\n",
    "/ Создайте декоратор UrgentNotification, который будет добавлять \n",
    "к уведомлению метку \"Срочное\")\n",
    "/ Декоратор должен оборачивать любые уведомления и выводить \n",
    "дополнительную информацию о срочности"
   ]
  },
  {
   "cell_type": "code",
   "execution_count": 13,
   "metadata": {},
   "outputs": [
    {
     "data": {
      "text/plain": [
       "'[URGANT] [email] sending^ Сервер упвл'"
      ]
     },
     "execution_count": 13,
     "metadata": {},
     "output_type": "execute_result"
    }
   ],
   "source": [
    "class BaseNotification(ABC):\n",
    "    @abstractmethod\n",
    "    def notify(self, message) -> str: ...\n",
    "\n",
    "class SinpleNotification(BaseNotification):\n",
    "    def __init__(self, sender: NotificationSender) -> None:\n",
    "        self.sender = sender\n",
    "\n",
    "    def notify(self, message) -> str:\n",
    "        return self.sender.send(message)\n",
    "    \n",
    "class UrgentNotification(BaseNotification):\n",
    "    def __init__(self, wrapped: BaseNotification) -> None:\n",
    "        self.wrapped = wrapped\n",
    "\n",
    "    def notify(self, message) -> str:\n",
    "        return \"[URGANT]\" + \" \" + self.wrapped.notify(message)\n",
    "    \n",
    "email = EmailNotification()\n",
    "simple = SinpleNotification(email)\n",
    "\n",
    "urgen = UrgentNotification(simple)\n",
    "\n",
    "urgen.notify(\"Сервер упвл\")\n",
    "\n",
    "\n"
   ]
  }
 ],
 "metadata": {
  "kernelspec": {
   "display_name": "Python 3",
   "language": "python",
   "name": "python3"
  },
  "language_info": {
   "codemirror_mode": {
    "name": "ipython",
    "version": 3
   },
   "file_extension": ".py",
   "mimetype": "text/x-python",
   "name": "python",
   "nbconvert_exporter": "python",
   "pygments_lexer": "ipython3",
   "version": "3.11.9"
  }
 },
 "nbformat": 4,
 "nbformat_minor": 2
}
