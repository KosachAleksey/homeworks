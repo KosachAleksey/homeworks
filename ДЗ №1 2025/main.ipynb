{
 "cells": [
  {
   "cell_type": "markdown",
   "metadata": {},
   "source": [
    "Домашние задание\n",
    "Алгоритмы сортировки и поиска на языке\n",
    "Python\n",
    "1. С помощью алгоритма пузырьковой\n",
    "сортировки(использовать функцию def)\n",
    "реализовать:"
   ]
  },
  {
   "cell_type": "markdown",
   "metadata": {},
   "source": [
    "Отсортировать список студентов по\n",
    "среднему баллу."
   ]
  },
  {
   "cell_type": "code",
   "execution_count": 16,
   "metadata": {},
   "outputs": [
    {
     "name": "stdout",
     "output_type": "stream",
     "text": [
      "Отсортированные студенты по среднему баллу: [{'name': 'Charlie', 'average': 83}, {'name': 'Alice', 'average': 85}, {'name': 'Bob', 'average': 90}]\n"
     ]
    }
   ],
   "source": [
    "students = [\n",
    "    {'name': 'Alice', 'average': 85},\n",
    "    {'name': 'Bob', 'average': 90},\n",
    "    {'name': 'Charlie', 'average': 83}\n",
    "]\n",
    "\n",
    "def bubble_sort_students(students):\n",
    "    n = len(students)\n",
    "    for i in range(n-1):\n",
    "        for j in range(0, n-1-i):\n",
    "            if students[j]['average'] > students[j+1]['average']:\n",
    "                students[j], students[j+1] = students[j+1], students[j]\n",
    "    return students\n",
    "\n",
    "\n",
    "\n",
    "sorted_students = bubble_sort_students(students) \n",
    "print(f\"Отсортированные студенты по среднему баллу: {sorted_students}\")\n"
   ]
  },
  {
   "cell_type": "markdown",
   "metadata": {},
   "source": [
    "Сортировка массива температур за месяц по возрастанию"
   ]
  },
  {
   "cell_type": "code",
   "execution_count": 5,
   "metadata": {},
   "outputs": [
    {
     "name": "stdout",
     "output_type": "stream",
     "text": [
      "Отсортированные температуры: [20, 22, 25, 27, 28, 30, 35]\n"
     ]
    }
   ],
   "source": [
    "def bubble_sort_temperatures(temperatures):\n",
    "    n = len(temperatures)\n",
    "    for i in range(n):\n",
    "        for j in range(0, n-i-1):\n",
    "            if temperatures[j] > temperatures[j+1]:\n",
    "                temperatures[j], temperatures[j+1] = temperatures[j+1], temperatures[j]\n",
    "    return temperatures\n",
    "\n",
    "temperatures = [30, 22, 25, 28, 20, 35, 27]\n",
    "sorted_temperatures = bubble_sort_temperatures(temperatures)\n",
    "print(\"Отсортированные температуры:\", sorted_temperatures)"
   ]
  },
  {
   "cell_type": "markdown",
   "metadata": {},
   "source": [
    "Сортировка слов в предложении по алфавиту"
   ]
  },
  {
   "cell_type": "code",
   "execution_count": 4,
   "metadata": {},
   "outputs": [
    {
     "name": "stdout",
     "output_type": "stream",
     "text": [
      "Отсортированные слова в предложении: интересно на питоне программирование это\n"
     ]
    }
   ],
   "source": [
    "def bubble_sort_words(sentence):\n",
    "    words = sentence.split()\n",
    "    n = len(words)\n",
    "    for i in range(n):\n",
    "        for j in range(0, n-i-1):\n",
    "            if words[j] > words[j+1]:\n",
    "                words[j], words[j+1] = words[j+1], words[j]\n",
    "    return ' '.join(words)\n",
    "\n",
    "sentence = \"программирование на питоне это интересно\"\n",
    "sorted_sentence = bubble_sort_words(sentence)\n",
    "print(\"Отсортированные слова в предложении:\", sorted_sentence)"
   ]
  },
  {
   "cell_type": "markdown",
   "metadata": {},
   "source": [
    "2. Линейная сортировка (поиск)"
   ]
  },
  {
   "cell_type": "code",
   "execution_count": 3,
   "metadata": {},
   "outputs": [
    {
     "name": "stdout",
     "output_type": "stream",
     "text": [
      "Индекс первого вхождения целевого значения: 2\n"
     ]
    }
   ],
   "source": [
    "def linear_search(numbers, target):\n",
    "    for index, value in enumerate(numbers):\n",
    "        if value == target:\n",
    "            return index\n",
    "    return -1\n",
    "\n",
    "numbers = [10, 20, 30, 40, 50]\n",
    "target_value = 30\n",
    "index = linear_search(numbers, target_value)\n",
    "print(\"Индекс первого вхождения целевого значения:\", index)"
   ]
  }
 ],
 "metadata": {
  "kernelspec": {
   "display_name": "Python 3",
   "language": "python",
   "name": "python3"
  },
  "language_info": {
   "codemirror_mode": {
    "name": "ipython",
    "version": 3
   },
   "file_extension": ".py",
   "mimetype": "text/x-python",
   "name": "python",
   "nbconvert_exporter": "python",
   "pygments_lexer": "ipython3",
   "version": "3.12.4"
  }
 },
 "nbformat": 4,
 "nbformat_minor": 2
}
