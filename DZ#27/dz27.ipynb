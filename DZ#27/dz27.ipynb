{
 "cells": [
  {
   "cell_type": "markdown",
   "metadata": {},
   "source": [
    "Описание: Необходимо реализовать систему управления заказами в онлайн\u0002магазине, которая использует паттерн проектирования «Фабричный Метод». \n",
    "Система должна позволять создавать разные типы заказов (например, \n",
    "обычный заказ, срочный заказ, международный заказ и т.д.). Каждый тип \n",
    "заказа должен иметь свои уникальные характеристики и обработку.\n",
    "\n",
    "Требования\n",
    " Создайте абстрактный класс Order с общими методами для всех типов \n",
    "заказов (например, process_order)\n",
    " Создайте конкретные классы для различных типов заказов, \n",
    "наследующиеся от абстрактного класса\n",
    "X Реализуйте абстрактный класс OrderFactory, содержащий фабричный метод \n",
    "create_order, который будут реализовывать конкретные фабрики\n",
    "R Создайте конкретные фабрики (RegularOrderFactory, UrgentOrderFactory, \n",
    "InternationalOrderFactory) для создания соответствующих типов заказов\n",
    "f Продемонстрируйте использование фабричного метода, создав несколько \n",
    "различных заказов и вызвав для каждого из них метод обработки\n"
   ]
  },
  {
   "cell_type": "code",
   "execution_count": 2,
   "metadata": {},
   "outputs": [
    {
     "name": "stdout",
     "output_type": "stream",
     "text": [
      "Срочный заказ обрабатывается с приоритетом\n",
      "Срочный заказ обрабатывается с приоритетом\n",
      "Международный заказ заказ обрабатывается с учетом таможни\n"
     ]
    }
   ],
   "source": [
    "from abc import ABC, abstractmethod\n",
    "\n",
    "class Order(ABC):\n",
    "    @abstractmethod\n",
    "    def process_order(self):\n",
    "        pass\n",
    "\n",
    "class RegularOrder(Order):\n",
    "    def process_order(self):\n",
    "        return \"Обычный заказ обрабатывается стандартным методом\"\n",
    "\n",
    "class UrgentOrder(Order):\n",
    "    def process_order(self):\n",
    "        return \"Срочный заказ обрабатывается с приоритетом\"\n",
    "class International(Order):\n",
    "    def process_order(self):\n",
    "        return \"Международный заказ заказ обрабатывается с учетом таможни\"\n",
    "\n",
    "#Абстрактный класс для фабрики заказов\n",
    "class OrderFactory(ABC):\n",
    "    @abstractmethod\n",
    "    def creat_order(self):\n",
    "        pass\n",
    "\n",
    "class RegularOrderFactory(OrderFactory):\n",
    "    def creat_order(self):\n",
    "        return RegularOrder()\n",
    "\n",
    "class UrgentOrderFactory(OrderFactory):\n",
    "    def creat_order(self):\n",
    "        return UrgentOrder()\n",
    "\n",
    "class InternationalOrderFactory(OrderFactory):\n",
    "    def creat_order(self):\n",
    "        return International()\n",
    "\n",
    "def work_order(factory: OrderFactory):\n",
    "    order = factory.creat_order()\n",
    "    print(order.process_order())\n",
    "\n",
    "regular_order_factory = UrgentOrderFactory()\n",
    "urgent_order_factory = UrgentOrderFactory()\n",
    "international_order_factory = InternationalOrderFactory()\n",
    "\n",
    "work_order(regular_order_factory)\n",
    "work_order(urgent_order_factory)\n",
    "work_order(international_order_factory)\n"
   ]
  }
 ],
 "metadata": {
  "kernelspec": {
   "display_name": "Python 3",
   "language": "python",
   "name": "python3"
  },
  "language_info": {
   "codemirror_mode": {
    "name": "ipython",
    "version": 3
   },
   "file_extension": ".py",
   "mimetype": "text/x-python",
   "name": "python",
   "nbconvert_exporter": "python",
   "pygments_lexer": "ipython3",
   "version": "3.11.9"
  }
 },
 "nbformat": 4,
 "nbformat_minor": 2
}
