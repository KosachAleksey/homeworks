{
 "cells": [
  {
   "cell_type": "markdown",
   "metadata": {},
   "source": [
    "Описание: В этом задании вам необходимо реализовать бинарное дерево\n",
    "поиска (BST), которое будет хранить целые числа. Бинарное дерево поиска —\n",
    "это структура данных, в которой для каждого узла выполняется следующее\n",
    "условиеD\n",
    "\u0018 Все значения в левом поддереве меньше значения в текущем узле\n",
    "\u0018 Все значения в правом поддереве больше значения в текущем узле.\n",
    "\n",
    "Ваша задача — реализовать основные операции с бинарным деревом поиска,\n",
    "такие как вставка элемента и поиск элемента.\n",
    "Требования~\n",
    "e Создание класса для узла дереваD\n",
    "\u0018 Каждый узел дерева должен содержатьD\n",
    "\u0018 Числовое значение\n",
    "\u0018 Указатели на левое и правое поддеревья\n",
    " Создание класса для бинарного дереваD\n",
    "\u0018 В этом классе должны быть реализованы следующие\n",
    "методыD\n",
    "\u0018 insert(value): Вставка нового значения в дерево\n",
    "\u0018 search(value): Поиск значения в дереве\n",
    " Логика работы бинарного дереваD\n",
    "\u0018 Для вставки элемента в дерево нужно добавить элемент на\n",
    "правильную позицию в дереве, соблюдая правила бинарного\n",
    "дерева поиска\n",
    "\u0018 Для поиска элемента нужно пройти дерево начиная с корня,\n",
    "сравнивая значение с текущим узлом и переходя в левое или\n",
    "правое поддерево в зависимости от результата сравнения."
   ]
  },
  {
   "cell_type": "code",
   "execution_count": 6,
   "metadata": {},
   "outputs": [
    {
     "name": "stdout",
     "output_type": "stream",
     "text": [
      "В данном случае результат поиска числа 7:  True\n",
      "В данном случае результат поиска числа 12:  False\n"
     ]
    }
   ],
   "source": [
    "class Node:\n",
    "    def __init__(self, value):\n",
    "        self.value = value\n",
    "        self.left = None\n",
    "        self.right = None\n",
    "\n",
    "class BinarySearchTree:\n",
    "    def __init__(self):\n",
    "        self.root = None\n",
    "\n",
    "    def insert(self, value):\n",
    "      \n",
    "        if self.root is None:\n",
    "            self.root = Node(value)\n",
    "        else:\n",
    "            self._insert_recursive(self.root, value)\n",
    "    \n",
    "    def _insert_recursive(self, node, value):\n",
    "        if value < node.value:\n",
    "            if node.left is None:\n",
    "                node.left = Node(value)\n",
    "            else:\n",
    "                self._insert_recursive(node.left, value)\n",
    "        else:\n",
    "            if node.right is None:\n",
    "                node.right = Node(value)\n",
    "            else:\n",
    "                self._insert_recursive(node.right, value)\n",
    "\n",
    "    def search(self, value):\n",
    "     \n",
    "        return self._search_recursive(self.root, value)\n",
    "\n",
    "    def _search_recursive(self, node, value):\n",
    "        if node is None:\n",
    "            return False\n",
    "        if node.value == value:\n",
    "            return True\n",
    "        elif value < node.value:\n",
    "            return self._search_recursive(node.left, value)\n",
    "        else:\n",
    "            return self._search_recursive(node.right, value)\n",
    "\n",
    "a = 7\n",
    "b = 12\n",
    "c = 10\n",
    "x = 5\n",
    "y = 15\n",
    "\n",
    "\n",
    "bst = BinarySearchTree()\n",
    "bst.insert(c)\n",
    "bst.insert(x)\n",
    "bst.insert(y)\n",
    "bst.insert(a)\n",
    "\n",
    "\n",
    "\n",
    "print(f\"В данном случае результат поиска числа {a}:  {bst.search(a)}\")  \n",
    "print(f\"В данном случае результат поиска числа {b}:  {bst.search(b)}\") \n"
   ]
  }
 ],
 "metadata": {
  "kernelspec": {
   "display_name": "Python 3",
   "language": "python",
   "name": "python3"
  },
  "language_info": {
   "codemirror_mode": {
    "name": "ipython",
    "version": 3
   },
   "file_extension": ".py",
   "mimetype": "text/x-python",
   "name": "python",
   "nbconvert_exporter": "python",
   "pygments_lexer": "ipython3",
   "version": "3.13.2"
  }
 },
 "nbformat": 4,
 "nbformat_minor": 2
}
